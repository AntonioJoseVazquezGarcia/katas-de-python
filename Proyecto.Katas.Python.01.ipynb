{
 "cells": [
  {
   "cell_type": "markdown",
   "id": "38b5cc35",
   "metadata": {},
   "source": [
    "PROYECTO : KATAS DE PYTHON"
   ]
  },
  {
   "cell_type": "markdown",
   "id": "9be6bb06",
   "metadata": {},
   "source": [
    "1. Escribe una función que reciba una cadena de texto como parámetro y devuelva un diccionario con las frecuencias de cada letra en la cadena. Los espacios no deben ser considerados."
   ]
  },
  {
   "cell_type": "code",
   "execution_count": null,
   "id": "4d9c7bd0",
   "metadata": {},
   "outputs": [],
   "source": [
    "\"\"\"\n",
    "Importamos la clase Counter de la biblioteca collections. \n",
    "Counter es una subclase de dict apropiada para contar la frecuencia \n",
    "de elementos en una lista o cadena.\n",
    "\"\"\"\n",
    "\n",
    "from collections import Counter\n",
    "\n",
    "\"\"\"\n",
    "Definimos una función que toma una cadena de texto y la recorre anotando la frecuencia\n",
    "de las letras que la componen\n",
    "\"\"\"\n",
    "\n",
    "def frecuencia_letras(cadena_texto):\n",
    "  \"\"\"\n",
    "  Calcula la frecuencia de cada letra en una cadena de texto, excluyendo espacios.\n",
    "\n",
    "  Args:\n",
    "    cadena_texto: La cadena de texto de entrada.\n",
    "\n",
    "  Returns:\n",
    "    Un diccionario donde las claves son las letras (en minúscula) y los valores\n",
    "    son sus frecuencias.\n",
    "  \"\"\"\n",
    "  # Convertimos la cadena a minúsculas para tratar 'A' y 'a' como la misma letra\n",
    "  cadena_procesada = cadena_texto.lower()\n",
    "  \n",
    "  \"\"\"\n",
    "  Filtramos los caracteres para excluir los espacios\n",
    "  Utilizamos una comprensión de lista para crear una nueva lista que solo \n",
    "  contenga los caracteres que no son espacios. letra != ' ' se encarga de filtrar los espacios.\n",
    "  \"\"\"\n",
    "  letras_sin_espacios = [letra for letra in cadena_procesada if letra != ' ']\n",
    "  \n",
    "  # Usamos Counter para obtener las frecuencias de las letras\n",
    "  frecuencias = Counter(letras_sin_espacios)\n",
    "  \n",
    "  return dict(frecuencias) # Convertimos el objeto Counter a un diccionario normal\n"
   ]
  },
  {
   "cell_type": "code",
   "execution_count": null,
   "id": "b1b9b9b9",
   "metadata": {},
   "outputs": [
    {
     "name": "stdout",
     "output_type": "stream",
     "text": [
      "Tu cadena de texto es: Hola mundo\n",
      "El diccionario con las frecuencias de aparición de tu cadena de texto es: \n"
     ]
    },
    {
     "data": {
      "text/plain": [
       "{'h': 1, 'o': 2, 'l': 1, 'a': 1, 'm': 1, 'u': 1, 'n': 1, 'd': 1}"
      ]
     },
     "execution_count": 7,
     "metadata": {},
     "output_type": "execute_result"
    }
   ],
   "source": [
    "#Pedimos al usuario que nos introduzca una cadena de texto\n",
    "\n",
    "cad_tex=str(input('Escribe una cadena de texto'))\n",
    "\n",
    "#Reproducimos el texto introducido por el usuario a modo de comprobación\n",
    "\n",
    "print(f'Tu cadena de texto es: {cad_tex}')\n",
    "\n",
    "#Devolvemos el resultado solicitado por el usuario\n",
    "\n",
    "print('El diccionario con las frecuencias de aparición de tu cadena de texto es: ')\n",
    "\n",
    "frecuencia_letras(cad_tex)\n"
   ]
  },
  {
   "cell_type": "markdown",
   "id": "272252af",
   "metadata": {},
   "source": [
    "2. Dada una lista de números, obtén una nueva lista con el doble de cada valor. Usa la función map()."
   ]
  },
  {
   "cell_type": "code",
   "execution_count": null,
   "id": "c20e182d",
   "metadata": {},
   "outputs": [
    {
     "name": "stdout",
     "output_type": "stream",
     "text": [
      "La lista resultante de multiplicar por dos la lista inicial es: [2, 4, 6, 8, 10]\n"
     ]
    }
   ],
   "source": [
    "#Definimos la lista inicial de partida\n",
    "\n",
    "lista_numeros=[1,2,3,4,5]\n",
    "\n",
    "#Usamos una función lambda combinada con la función map() para hacer el cálculo solicitado y darle forma de lista\n",
    "\n",
    "lista_num_por_dos=list(map(lambda x:x*2, lista_numeros))\n",
    "\n",
    "#Presentamos en pantalla el resultado de la operación\n",
    "\n",
    "print(f'La lista resultante de multiplicar por dos la lista inicial es: {lista_num_por_dos}')\n"
   ]
  },
  {
   "cell_type": "markdown",
   "id": "94782c7a",
   "metadata": {},
   "source": [
    "3. Escribe una función que tome una lista de palabras y una palabra objetivo como parámetro. La función debe devolver una lista con todas las palabras de la lista original que contengan la palabra objetivo."
   ]
  },
  {
   "cell_type": "code",
   "execution_count": 2,
   "id": "bd2861eb",
   "metadata": {},
   "outputs": [],
   "source": [
    "#Definimos la función que hace la comprobación de que una cadena de caracteres se encuentre dentro de las palabras\n",
    "#de una lista determinada\n",
    "\n",
    "def filtrar_palabras(lista_palabras, palabra_objetivo):\n",
    "  \"\"\"\n",
    "  Filtra una lista de palabras y devuelve aquellas que contienen una palabra objetivo.\n",
    "\n",
    "  Args:\n",
    "    lista_palabras: Una lista de cadenas (palabras).\n",
    "    palabra_objetivo: La cadena (palabra) a buscar como subcadena.\n",
    "\n",
    "  Returns:\n",
    "    Una nueva lista con todas las palabras de la lista original que contienen\n",
    "    la palabra objetivo.\n",
    "  \"\"\"\n",
    "  palabras_filtradas = [palabra for palabra in lista_palabras if palabra_objetivo in palabra]\n",
    "  \n",
    "  return palabras_filtradas\n",
    "\n"
   ]
  },
  {
   "cell_type": "code",
   "execution_count": null,
   "id": "b9fcffc7",
   "metadata": {},
   "outputs": [
    {
     "name": "stdout",
     "output_type": "stream",
     "text": [
      "Palabras que contienen 'an': ['manzana', 'platano', 'naranja']\n"
     ]
    }
   ],
   "source": [
    "#Definimos la lista de palabras a usar\n",
    "\n",
    "mis_palabras = [\"manzana\", \"platano\", \"pera\", \"naranja\", \"uva\"]\n",
    "\n",
    "#Definimos la cadena a buscar dentro de las palabras\n",
    "\n",
    "objetivo1 = \"an\"\n",
    "\n",
    "#Hacemos uso de la función anterior para determinar qué palabras contienen la cadena objetivo\n",
    "\n",
    "resultado1 = filtrar_palabras(mis_palabras, objetivo1)\n",
    "\n",
    "#Devolvemos por pantalla el resultado solicitado\n",
    "\n",
    "print(f\"Palabras que contienen '{objetivo1}': {resultado1}\")\n"
   ]
  },
  {
   "cell_type": "markdown",
   "id": "d2aeec39",
   "metadata": {},
   "source": [
    "4. Genera una función que calcula la diferencia entre los valores de dos listas. Usa la función map()."
   ]
  },
  {
   "cell_type": "code",
   "execution_count": 4,
   "id": "0e5a57ef",
   "metadata": {},
   "outputs": [],
   "source": [
    "def calcular_diferencia_listas(lista1, lista2):\n",
    "  \"\"\"\n",
    "  Calcula la diferencia entre los elementos correspondientes de dos listas.\n",
    "\n",
    "  Args:\n",
    "    lista1: La primera lista de números.\n",
    "    lista2: La segunda lista de números.\n",
    "\n",
    "  Returns:\n",
    "    Una nueva lista con la diferencia entre los elementos de lista1 y lista2.\n",
    "    Si las listas tienen longitudes diferentes, la función se detendrá\n",
    "    cuando una de las listas se agote (comportamiento de map()).\n",
    "  \"\"\"\n",
    "  # Usamos map() con una función lambda para restar los elementos.\n",
    "  # La función lambda toma dos argumentos (x e y) y devuelve su diferencia.\n",
    "  # map() aplica esta función a cada par de elementos de lista1 y lista2.\n",
    "\n",
    "  diferencia = list(map(lambda x, y: x - y, lista1, lista2))\n",
    "\n",
    "  return diferencia\n"
   ]
  },
  {
   "cell_type": "code",
   "execution_count": 5,
   "id": "498314c9",
   "metadata": {},
   "outputs": [
    {
     "name": "stdout",
     "output_type": "stream",
     "text": [
      "El resultado de la diferencia entre las listas es: \n"
     ]
    },
    {
     "data": {
      "text/plain": [
       "[9, 18, 27, 36, 45]"
      ]
     },
     "execution_count": 5,
     "metadata": {},
     "output_type": "execute_result"
    }
   ],
   "source": [
    "# Le damos los valores de las listas \n",
    "\n",
    "lista_1=[10,20,30,40,50]\n",
    "lista_2=[1,2,3,4,5]\n",
    "\n",
    "#Hacemos la presentación de los resultados:\n",
    "\n",
    "print('El resultado de la diferencia entre las listas es: ')\n",
    "\n",
    "#Invocamos a la función que hace el cálculo y nos da los resultados\n",
    "\n",
    "calcular_diferencia_listas(lista_1,lista_2)"
   ]
  },
  {
   "cell_type": "markdown",
   "id": "8179f88e",
   "metadata": {},
   "source": [
    "5. Escribe una función que tome una lista de números como parámetro y un valor opcional como nota_aprobado, que por defecto es 5. La función debe calcular la media de los números de la lista y determinar si la media es mayor o igual que nota_aprobado. Si es así, el estado será \"aprobado\", de lo contrario, será \"suspenso\". La función debe devolver una tupla que contenga la media y el estado."
   ]
  },
  {
   "cell_type": "code",
   "execution_count": 13,
   "id": "106139ad",
   "metadata": {},
   "outputs": [],
   "source": [
    "def calcular_media_y_estado(numeros: list, nota_aprobado: float = 5.0) -> tuple:\n",
    "    \"\"\"\n",
    "    Calcula la media de una lista de números y determina el estado (aprobado/suspenso).\n",
    "\n",
    "    Args:\n",
    "        numeros: Una lista de números (int o float).\n",
    "        nota_aprobado: El valor mínimo para considerar la media como \"aprobado\".\n",
    "                       Por defecto es 5.0.\n",
    "\n",
    "    Returns:\n",
    "        Una tupla que contiene la media de los números y el estado (\"aprobado\" o \"suspenso\").\n",
    "        Si la lista de números está vacía, devuelve (0.0, \"suspenso\").\n",
    "    \"\"\"\n",
    "    if not numeros:\n",
    "        return 0.0, \"suspenso\"\n",
    "\n",
    "    media = sum(numeros) / len(numeros)\n",
    "    \n",
    "    if media >= nota_aprobado:\n",
    "        estado = \"aprobado\"\n",
    "    else:\n",
    "        estado = \"suspenso\"\n",
    "        \n",
    "    return media, estado"
   ]
  },
  {
   "cell_type": "code",
   "execution_count": null,
   "id": "173ecc88",
   "metadata": {},
   "outputs": [
    {
     "name": "stdout",
     "output_type": "stream",
     "text": [
      "Lista: [6, 7, 8, 5, 9], Media: 7.00, Estado: aprobado\n"
     ]
    }
   ],
   "source": [
    "numeros1 = [6, 7, 8, 5, 9]\n",
    "media1, estado1 = calcular_media_y_estado(numeros1)\n",
    "\n",
    "print(f\"Lista: {numeros1}, Media: {media1:.2f}, Estado: {estado1}\") "
   ]
  },
  {
   "cell_type": "code",
   "execution_count": 15,
   "id": "ff4d3b0a",
   "metadata": {},
   "outputs": [
    {
     "name": "stdout",
     "output_type": "stream",
     "text": [
      "Lista: [3, 4, 2, 1, 5], Media: 3.00, Estado: suspenso\n"
     ]
    }
   ],
   "source": [
    "numeros2 = [3, 4, 2, 1, 5]\n",
    "media2, estado2 = calcular_media_y_estado(numeros2)\n",
    "print(f\"Lista: {numeros2}, Media: {media2:.2f}, Estado: {estado2}\")"
   ]
  },
  {
   "cell_type": "code",
   "execution_count": 17,
   "id": "e72337d8",
   "metadata": {},
   "outputs": [
    {
     "name": "stdout",
     "output_type": "stream",
     "text": [
      "Lista: [7.5, 6.0, 8.0, 7.0], Media: 7.12, Estado: aprobado\n"
     ]
    }
   ],
   "source": [
    "numeros3 = [7.5, 6.0, 8.0, 7.0]\n",
    "media3, estado3 = calcular_media_y_estado(numeros3, 7.0)\n",
    "print(f\"Lista: {numeros3}, Media: {media3:.2f}, Estado: {estado3}\")"
   ]
  },
  {
   "cell_type": "code",
   "execution_count": 16,
   "id": "323ca133",
   "metadata": {},
   "outputs": [
    {
     "name": "stdout",
     "output_type": "stream",
     "text": [
      "Lista: [], Media: 0.00, Estado: suspenso\n"
     ]
    }
   ],
   "source": [
    "numeros4 = []\n",
    "media4, estado4 = calcular_media_y_estado(numeros4)\n",
    "print(f\"Lista: {numeros4}, Media: {media4:.2f}, Estado: {estado4}\")"
   ]
  },
  {
   "cell_type": "markdown",
   "id": "efda7f0f",
   "metadata": {},
   "source": [
    "6. Escribe una función que calcule el factorial de un número de manera recursiva."
   ]
  },
  {
   "cell_type": "code",
   "execution_count": 29,
   "id": "99545336",
   "metadata": {},
   "outputs": [],
   "source": [
    "def factorial_recursivo(n: int) -> int:\n",
    "    \"\"\"\n",
    "    Calcula el factorial de un número entero no negativo de forma recursiva.\n",
    "\n",
    "    Args:\n",
    "        n: Un número entero no negativo.\n",
    "\n",
    "    Returns:\n",
    "        El factorial del número n.\n",
    "\n",
    "    Raises:\n",
    "        ValueError: Si el número n es negativo.\n",
    "    \"\"\"\n",
    "    if n < 0:\n",
    "        raise ValueError(\"El factorial no está definido para números negativos.\")\n",
    "    elif n == 0 or n == 1:\n",
    "        # Caso base: el factorial de 0 y 1 es 1\n",
    "        return 1\n",
    "    else:\n",
    "        # Caso recursivo: n! = n * (n-1)!\n",
    "        return n * factorial_recursivo(n - 1)"
   ]
  },
  {
   "cell_type": "code",
   "execution_count": 30,
   "id": "4c96d6b4",
   "metadata": {},
   "outputs": [
    {
     "name": "stdout",
     "output_type": "stream",
     "text": [
      "El factorial de 5 es: 120\n"
     ]
    }
   ],
   "source": [
    "num1 = 5\n",
    "resultado1 = factorial_recursivo(num1)\n",
    "print(f\"El factorial de {num1} es: {resultado1}\")"
   ]
  },
  {
   "cell_type": "code",
   "execution_count": 31,
   "id": "15e7ab3f",
   "metadata": {},
   "outputs": [
    {
     "name": "stdout",
     "output_type": "stream",
     "text": [
      "El factorial de 0 es: 1\n"
     ]
    }
   ],
   "source": [
    "num2 = 0\n",
    "resultado2 = factorial_recursivo(num2)\n",
    "print(f\"El factorial de {num2} es: {resultado2}\")"
   ]
  },
  {
   "cell_type": "markdown",
   "id": "a112970d",
   "metadata": {},
   "source": [
    "7. Genera una función que convierta una lista de tuplas a una lista de strings. Usa la función map()."
   ]
  },
  {
   "cell_type": "code",
   "execution_count": 32,
   "id": "c12293fc",
   "metadata": {},
   "outputs": [],
   "source": [
    "def convertir_tuplas_a_strings_repr(lista_de_tuplas: list[tuple]) -> list[str]:\n",
    "    \"\"\"\n",
    "    Convierte una lista de tuplas a una lista de strings,\n",
    "    usando la representación de string por defecto de cada tupla.\n",
    "\n",
    "    Args:\n",
    "        lista_de_tuplas: La lista de tuplas a convertir.\n",
    "\n",
    "    Returns:\n",
    "        Una nueva lista de strings.\n",
    "    \"\"\"\n",
    "    # map(str, ...) aplica la función str() a cada elemento de la lista_de_tuplas.\n",
    "    return list(map(str, lista_de_tuplas))\n",
    "\n"
   ]
  },
  {
   "cell_type": "code",
   "execution_count": 33,
   "id": "24f1034d",
   "metadata": {},
   "outputs": [
    {
     "name": "stdout",
     "output_type": "stream",
     "text": [
      "Original: [(1, 'uno'), (2, 'dos'), (3, 'tres')]\n",
      "Representación de string: [\"(1, 'uno')\", \"(2, 'dos')\", \"(3, 'tres')\"]\n"
     ]
    }
   ],
   "source": [
    "\n",
    "lista_tuplas_1 = [(1, 'uno'), (2, 'dos'), (3, 'tres')]\n",
    "strings_repr_1 = convertir_tuplas_a_strings_repr(lista_tuplas_1)\n",
    "print(f\"Original: {lista_tuplas_1}\")\n",
    "print(f\"Representación de string: {strings_repr_1}\")\n",
    "\n"
   ]
  },
  {
   "cell_type": "markdown",
   "id": "ddc56793",
   "metadata": {},
   "source": [
    "8. Escribe un programa que pida al usuario dos números e intente dividirlos. Si el usuario ingresa un valor no numérico o intenta dividir por cero, maneja esas excepciones de manera adecuada. Asegúrate de mostrar un mensaje indicando si la división fue exitosa o no."
   ]
  },
  {
   "cell_type": "code",
   "execution_count": 34,
   "id": "cc5cb7d8",
   "metadata": {},
   "outputs": [],
   "source": [
    "def realizar_division_segura():\n",
    "    \"\"\"\n",
    "    Pide dos números al usuario, intenta dividirlos y maneja las excepciones\n",
    "    de entrada no numérica (ValueError) y división por cero (ZeroDivisionError).\n",
    "    Muestra un mensaje indicando el éxito o fracaso de la operación.\n",
    "    \"\"\"\n",
    "    print(\"--- Calculadora de División ---\")\n",
    "    \n",
    "    try:\n",
    "        # Solicitar el primer número y convertirlo a float.\n",
    "        # Esto puede levantar un ValueError si la entrada no es numérica.\n",
    "        num1_str = input(\"Ingresa el primer número: \")\n",
    "        numero1 = float(num1_str)\n",
    "\n",
    "        # Solicitar el segundo número y convertirlo a float.\n",
    "        # Esto también puede levantar un ValueError.\n",
    "        num2_str = input(\"Ingresa el segundo número: \")\n",
    "        numero2 = float(num2_str)\n",
    "\n",
    "        # Intentar realizar la división.\n",
    "        # Esto puede levantar un ZeroDivisionError si numero2 es 0.\n",
    "        resultado = numero1 / numero2\n",
    "        \n",
    "        # Si todo fue exitoso, imprimir el resultado y el mensaje de éxito\n",
    "        print(f\"\\n¡La división fue exitosa! El resultado de {numero1} / {numero2} es: {resultado:.2f}\")\n",
    "\n",
    "    except ValueError:\n",
    "        # Manejar el error si la conversión a float falla (entrada no numérica)\n",
    "        print(\"\\n¡Error! Has ingresado un valor no numérico. Por favor, ingresa solo números.\")\n",
    "        print(\"La división no pudo realizarse.\")\n",
    "    except ZeroDivisionError:\n",
    "        # Manejar el error si se intenta dividir por cero\n",
    "        print(\"\\n¡Error! No se puede dividir por cero. Por favor, ingresa un segundo número diferente de cero.\")\n",
    "        print(\"La división no pudo realizarse.\")\n",
    "    except Exception as e:\n",
    "        # Capturar cualquier otra excepción inesperada\n",
    "        print(f\"\\nOcurrió un error inesperado: {e}\")\n",
    "        print(\"La división no pudo realizarse.\")\n",
    "    finally:\n",
    "        # Este bloque se ejecuta siempre, independientemente de si hubo un error o no\n",
    "        print(\"\\n--- Fin de la operación ---\")\n",
    "\n"
   ]
  },
  {
   "cell_type": "code",
   "execution_count": 39,
   "id": "9b77754e",
   "metadata": {},
   "outputs": [
    {
     "name": "stdout",
     "output_type": "stream",
     "text": [
      "--- Calculadora de División ---\n",
      "\n",
      "¡Error! Has ingresado un valor no numérico. Por favor, ingresa solo números.\n",
      "La división no pudo realizarse.\n",
      "\n",
      "--- Fin de la operación ---\n"
     ]
    }
   ],
   "source": [
    "# Llamar a la función para ejecutar el programa\n",
    "realizar_division_segura()"
   ]
  },
  {
   "cell_type": "markdown",
   "id": "43292862",
   "metadata": {},
   "source": [
    "9. Escribe una función que tome una lista de nombres de mascotas como parámetro y devuelva una nueva lista excluyendo ciertas mascotas prohibidas en España. La lista de mascotas a excluir es [\"Mapache\", \"Tigre\", \"Serpiente Pitón\", \"Cocodrilo\", \"Oso\"]. Usa la función filter()."
   ]
  },
  {
   "cell_type": "code",
   "execution_count": 40,
   "id": "f501b8d9",
   "metadata": {},
   "outputs": [],
   "source": [
    "def filtrar_mascotas_permitidas(nombres_mascotas: list[str]) -> list[str]:\n",
    "    \"\"\"\n",
    "    Filtra una lista de nombres de mascotas, excluyendo aquellas que están\n",
    "    en una lista predefinida de mascotas prohibidas en España.\n",
    "\n",
    "    Args:\n",
    "        nombres_mascotas: Una lista de strings, donde cada string es el nombre de una mascota.\n",
    "\n",
    "    Returns:\n",
    "        Una nueva lista de strings que contiene solo los nombres de mascotas permitidas.\n",
    "    \"\"\"\n",
    "    # Definimos la lista de mascotas prohibidas según el criterio dado\n",
    "    mascotas_prohibidas = [\"Mapache\", \"Tigre\", \"Serpiente Pitón\", \"Cocodrilo\", \"Oso\"]\n",
    "\n",
    "    # Usamos la función filter() con una lambda para verificar si una mascota NO está prohibida\n",
    "    # La lambda devuelve True si el nombre de la mascota NO está en la lista de prohibidas,\n",
    "    # lo que significa que filter() la incluirá en el resultado.\n",
    "    lista_filtrada = list(filter(lambda mascota: mascota not in mascotas_prohibidas, nombres_mascotas))\n",
    "    \n",
    "    return lista_filtrada"
   ]
  },
  {
   "cell_type": "code",
   "execution_count": 41,
   "id": "df68d4cd",
   "metadata": {},
   "outputs": [
    {
     "name": "stdout",
     "output_type": "stream",
     "text": [
      "Lista original: ['Perro', 'Gato', 'Mapache', 'Pez Dorado', 'Tigre', 'Loro']\n",
      "Mascotas permitidas: ['Perro', 'Gato', 'Pez Dorado', 'Loro']\n"
     ]
    }
   ],
   "source": [
    "mis_mascotas_1 = [\"Perro\", \"Gato\", \"Mapache\", \"Pez Dorado\", \"Tigre\", \"Loro\"]\n",
    "mascotas_permitidas_1 = filtrar_mascotas_permitidas(mis_mascotas_1)\n",
    "print(f\"Lista original: {mis_mascotas_1}\")\n",
    "print(f\"Mascotas permitidas: {mascotas_permitidas_1}\")"
   ]
  },
  {
   "cell_type": "markdown",
   "id": "2f5a83f4",
   "metadata": {},
   "source": [
    "10. Escribe una función que reciba una lista de números y calcule su promedio. Si la lista está vacía, lanza una excepción personalizada y manera el error adecuadamente."
   ]
  },
  {
   "cell_type": "code",
   "execution_count": 42,
   "id": "ff8443d3",
   "metadata": {},
   "outputs": [],
   "source": [
    "class ListaVaciaError(Exception):\n",
    "    \"\"\"\n",
    "    Excepción personalizada lanzada cuando una operación requiere una lista no vacía,\n",
    "    pero recibe una lista vacía.\n",
    "    \"\"\"\n",
    "    def __init__(self, mensaje=\"La lista de números no puede estar vacía para calcular el promedio.\"):\n",
    "        self.mensaje = mensaje\n",
    "        super().__init__(self.mensaje) # Llama al constructor de la clase base Exception"
   ]
  },
  {
   "cell_type": "code",
   "execution_count": 43,
   "id": "d97a5510",
   "metadata": {},
   "outputs": [],
   "source": [
    "def calcular_promedio(numeros: list[float]) -> float:\n",
    "    \"\"\"\n",
    "    Calcula el promedio de una lista de números.\n",
    "\n",
    "    Args:\n",
    "        numeros: Una lista de números (enteros o flotantes).\n",
    "\n",
    "    Returns:\n",
    "        El promedio de los números en la lista.\n",
    "\n",
    "    Raises:\n",
    "        ListaVaciaError: Si la lista de números está vacía.\n",
    "    \"\"\"\n",
    "    if not numeros:\n",
    "        # Lanzamos nuestra excepción personalizada si la lista está vacía\n",
    "        raise ListaVaciaError(\"No se puede calcular el promedio de una lista vacía.\")\n",
    "    \n",
    "    return sum(numeros) / len(numeros)"
   ]
  },
  {
   "cell_type": "code",
   "execution_count": null,
   "id": "22c766ce",
   "metadata": {},
   "outputs": [
    {
     "name": "stdout",
     "output_type": "stream",
     "text": [
      "--- Calculadora de Promedio ---\n",
      "\n",
      "Lista: [10, 20, 30, 40, 50]\n",
      "El promedio es: 30.00\n",
      "El cálculo del promedio fue exitoso.\n",
      "\n",
      "Error al calcular el promedio: No se puede calcular el promedio de una lista vacía.\n",
      "El cálculo del promedio no pudo realizarse.\n",
      "\n",
      "Lista: [5, 15, 25]\n",
      "El promedio es: 15.00\n",
      "El cálculo del promedio fue exitoso.\n",
      "\n",
      "--- Fin del programa ---\n"
     ]
    }
   ],
   "source": [
    "print(\"--- Calculadora de Promedio ---\")\n",
    "\n",
    "# --- Caso 1: Lista válida ---\n",
    "lista_valida = [10, 20, 30, 40, 50]\n",
    "try:\n",
    "    promedio_1 = calcular_promedio(lista_valida)\n",
    "    print(f\"\\nLista: {lista_valida}\")\n",
    "    print(f\"El promedio es: {promedio_1:.2f}\")\n",
    "    print(\"El cálculo del promedio fue exitoso.\")\n",
    "except ListaVaciaError as e:\n",
    "    # Este bloque NO se ejecutará para lista_valida\n",
    "    print(f\"\\nError al calcular el promedio: {e}\")\n",
    "    print(\"El cálculo del promedio no pudo realizarse.\")\n",
    "except Exception as e:\n",
    "    # Captura cualquier otra excepción inesperada\n",
    "    print(f\"\\nOcurrió un error inesperado: {e}\")\n",
    "    print(\"El cálculo del promedio no pudo realizarse.\")\n",
    "\n",
    "\n",
    "# --- Caso 2: Lista vacía ---\n",
    "lista_vacia = []\n",
    "try:\n",
    "    promedio_2 = calcular_promedio(lista_vacia)\n",
    "    print(f\"\\nLista: {lista_vacia}\")\n",
    "    print(f\"El promedio es: {promedio_2:.2f}\")\n",
    "    print(\"El cálculo del promedio fue exitoso.\")\n",
    "except ListaVaciaError as e:\n",
    "    # Este bloque SÍ se ejecutará para lista_vacia\n",
    "    print(f\"\\nError al calcular el promedio: {e}\")\n",
    "    print(\"El cálculo del promedio no pudo realizarse.\")\n",
    "except Exception as e:\n",
    "    # Captura cualquier otra excepción inesperada\n",
    "    print(f\"\\nOcurrió un error inesperado: {e}\")\n",
    "    print(\"El cálculo del promedio no pudo realizarse.\")\n",
    "\n",
    "\n",
    "# --- Caso 3: Otra lista válida ---\n",
    "otra_lista = [5, 15, 25]\n",
    "try:\n",
    "    promedio_3 = calcular_promedio(otra_lista)\n",
    "    print(f\"\\nLista: {otra_lista}\")\n",
    "    print(f\"El promedio es: {promedio_3:.2f}\")\n",
    "    print(\"El cálculo del promedio fue exitoso.\")\n",
    "except ListaVaciaError as e:\n",
    "    print(f\"\\nError al calcular el promedio: {e}\")\n",
    "    print(\"El cálculo del promedio no pudo realizarse.\")\n",
    "except Exception as e:\n",
    "    print(f\"\\nOcurrió un error inesperado: {e}\")\n",
    "    print(\"El cálculo del promedio no pudo realizarse.\")\n",
    "\n",
    "print(\"\\n--- Fin del programa ---\")\n",
    "\n"
   ]
  },
  {
   "cell_type": "markdown",
   "id": "6887e9cb",
   "metadata": {},
   "source": [
    "11. Escribe un programa que pida al usuario que introduzca su edad. Si el usuario ingresa un valor no numérico o un valor fuera de rango esperado (por ejemplo, menor que 0 o mayor que 120), maneja las excepciones adecuadamente."
   ]
  },
  {
   "cell_type": "code",
   "execution_count": 1,
   "id": "5ee1b061",
   "metadata": {},
   "outputs": [],
   "source": [
    "def obtener_edad():\n",
    "    \"\"\"\n",
    "    Solicita al usuario su edad, validando que sea un número entero\n",
    "    entre 0 y 120. Maneja excepciones para entradas no numéricas\n",
    "    o fuera de rango.\n",
    "    \"\"\"\n",
    "    while True:\n",
    "        try:\n",
    "            edad_str = input(\"Por favor, introduce tu edad: \")\n",
    "            edad = int(edad_str)\n",
    "\n",
    "            if not (0 <= edad <= 120):\n",
    "                print(\"Error: La edad debe estar entre 0 y 120 años.\")\n",
    "            else:\n",
    "                return edad\n",
    "        except ValueError:\n",
    "            print(\"Error: Entrada no válida. Por favor, introduce un número entero para la edad.\")\n",
    "        except Exception as e:\n",
    "            print(f\"Ha ocurrido un error inesperado: {e}\")\n",
    "\n"
   ]
  },
  {
   "cell_type": "code",
   "execution_count": 8,
   "id": "0a0a97ee",
   "metadata": {},
   "outputs": [
    {
     "name": "stdout",
     "output_type": "stream",
     "text": [
      "Error: La edad debe estar entre 0 y 120 años.\n",
      "Gracias. Has introducido que tienes 25 años.\n"
     ]
    }
   ],
   "source": [
    "edad_usuario = obtener_edad()\n",
    "\n",
    "print(f\"Gracias. Has introducido que tienes {edad_usuario} años.\")"
   ]
  },
  {
   "cell_type": "markdown",
   "id": "07fc473f",
   "metadata": {},
   "source": [
    "12. Genera una función que al recibir una frase devuelva una lista con la longitud de cada palabra. Usa la función map()."
   ]
  },
  {
   "cell_type": "code",
   "execution_count": 9,
   "id": "c21ab331",
   "metadata": {},
   "outputs": [],
   "source": [
    "def longitud_palabras(frase):\n",
    "    \"\"\"\n",
    "    Toma una frase y devuelve una lista con la longitud de cada palabra.\n",
    "\n",
    "    Args:\n",
    "        frase (str): La frase de entrada.\n",
    "\n",
    "    Returns:\n",
    "        list: Una lista de enteros, donde cada entero es la longitud de una palabra.\n",
    "    \"\"\"\n",
    "    # Dividimos la frase en palabras usando el espacio como delimitador.\n",
    "    # Esto creará una lista de palabras.\n",
    "    palabras = frase.split()\n",
    "\n",
    "    # Usamos map() con la función len para aplicar len() a cada palabra en la lista 'palabras'.\n",
    "    # map() devuelve un objeto map, por lo que lo convertimos a una lista.\n",
    "    longitudes = list(map(len, palabras))\n",
    "\n",
    "    return longitudes\n",
    "\n"
   ]
  },
  {
   "cell_type": "code",
   "execution_count": 18,
   "id": "e10c9111",
   "metadata": {},
   "outputs": [
    {
     "name": "stdout",
     "output_type": "stream",
     "text": [
      "La frase: 'Hola mundo esto es una prueba'\n",
      "Longitudes de las palabras: [4, 5, 4, 2, 3, 6]\n",
      "\n",
      "La frase: 'Python es divertido y poderoso'\n",
      "Longitudes de las palabras: [6, 2, 9, 1, 8]\n",
      "\n",
      "La frase: 'Una sola palabra'\n",
      "Longitudes de las palabras: [3, 4, 7]\n",
      "\n",
      "La frase: ''\n",
      "Longitudes de las palabras: []\n",
      "\n",
      "La frase: '   Espacios   extra  '\n",
      "Longitudes de las palabras: [8, 5]\n"
     ]
    }
   ],
   "source": [
    "# --- Ejemplos de uso ---\n",
    "frase1 = \"Hola mundo esto es una prueba\"\n",
    "print(f\"La frase: '{frase1}'\")\n",
    "print(f\"Longitudes de las palabras: {longitud_palabras(frase1)}\")\n",
    "\n",
    "\n",
    "frase2 = \"Python es divertido y poderoso\"\n",
    "print(f\"\\nLa frase: '{frase2}'\")\n",
    "print(f\"Longitudes de las palabras: {longitud_palabras(frase2)}\")\n",
    "\n",
    "\n",
    "frase3 = \"Una sola palabra\"\n",
    "print(f\"\\nLa frase: '{frase3}'\")\n",
    "print(f\"Longitudes de las palabras: {longitud_palabras(frase3)}\")\n",
    "\n",
    "\n",
    "frase4 = \"\"\n",
    "print(f\"\\nLa frase: '{frase4}'\")\n",
    "print(f\"Longitudes de las palabras: {longitud_palabras(frase4)}\")\n",
    "\n",
    "frase5 = \"   Espacios   extra  \"\n",
    "print(f\"\\nLa frase: '{frase5}'\")\n",
    "print(f\"Longitudes de las palabras: {longitud_palabras(frase5)}\")\n"
   ]
  },
  {
   "cell_type": "markdown",
   "id": "5bc2a89e",
   "metadata": {},
   "source": [
    "13. Genera una función la cual, para un conjunto de caracteres, devuelva una lista de tuplas con cada letra en mayúsculas y minúsculas. Las letras no pueden estar repetidas. Usa la función map()."
   ]
  },
  {
   "cell_type": "code",
   "execution_count": 11,
   "id": "84a5423d",
   "metadata": {},
   "outputs": [],
   "source": [
    "def generar_mayus_minus(caracteres):\n",
    "    \"\"\"\n",
    "    Toma un conjunto de caracteres y devuelve una lista de tuplas,\n",
    "    donde cada tupla contiene el carácter en mayúscula y minúscula.\n",
    "    Las letras repetidas en la entrada son ignoradas.\n",
    "\n",
    "    Args:\n",
    "        caracteres (str): Una cadena de caracteres de la cual se generarán las tuplas.\n",
    "\n",
    "    Returns:\n",
    "        list: Una lista de tuplas (mayúscula, minúscula).\n",
    "    \"\"\"\n",
    "    # Usamos un conjunto para eliminar caracteres duplicados y asegurar unicidad\n",
    "    # Convertimos todos los caracteres a minúsculas antes de añadir al conjunto\n",
    "    # para tratar 'A' y 'a' como el mismo carácter para la unicidad.\n",
    "    caracteres_unicos_lower = sorted(set(c.lower() for c in caracteres if c.isalpha()))\n",
    "\n",
    "    # Usamos map para aplicar una función lambda a cada carácter único.\n",
    "    # La función lambda crea una tupla (carácter.upper(), carácter.lower()).\n",
    "    lista_tuplas = list(map(lambda c: (c.upper(), c.lower()), caracteres_unicos_lower))\n",
    "\n",
    "    return lista_tuplas\n",
    "\n"
   ]
  },
  {
   "cell_type": "code",
   "execution_count": 17,
   "id": "b7616d80",
   "metadata": {},
   "outputs": [
    {
     "name": "stdout",
     "output_type": "stream",
     "text": [
      "--- Ejemplo 1: Caracteres mixtos ---\n",
      "Entrada: 'HolaMundo'\n",
      "Resultado: [('A', 'a'), ('D', 'd'), ('H', 'h'), ('L', 'l'), ('M', 'm'), ('N', 'n'), ('O', 'o'), ('U', 'u')]\n",
      "\n",
      "--- Ejemplo 2: Caracteres con repeticiones y espacios/números ---\n",
      "Entrada: 'banana123Manzana ABC'\n",
      "Resultado: [('A', 'a'), ('B', 'b'), ('C', 'c'), ('M', 'm'), ('N', 'n'), ('Z', 'z')]\n",
      "\n",
      "--- Ejemplo 3: Cadena vacía ---\n",
      "Entrada: ''\n",
      "Resultado: []\n",
      "\n",
      "--- Ejemplo 4: Solo caracteres no alfabéticos ---\n",
      "Entrada: '123 !@#'\n",
      "Resultado: []\n",
      "\n",
      "--- Ejemplo 5: Solo mayúsculas/minúsculas repetidas ---\n",
      "Entrada: 'AaBbAABbC'\n",
      "Resultado: [('A', 'a'), ('B', 'b'), ('C', 'c')]\n"
     ]
    }
   ],
   "source": [
    "# --- Ejemplos de uso ---\n",
    "print(\"--- Ejemplo 1: Caracteres mixtos ---\")\n",
    "entrada1 = \"HolaMundo\"\n",
    "resultado1 = generar_mayus_minus(entrada1)\n",
    "print(f\"Entrada: '{entrada1}'\")\n",
    "print(f\"Resultado: {resultado1}\")\n",
    "\n",
    "print(\"\\n--- Ejemplo 2: Caracteres con repeticiones y espacios/números ---\")\n",
    "entrada2 = \"banana123Manzana ABC\"\n",
    "resultado2 = generar_mayus_minus(entrada2)\n",
    "print(f\"Entrada: '{entrada2}'\")\n",
    "print(f\"Resultado: {resultado2}\")\n",
    "\n",
    "\n",
    "print(\"\\n--- Ejemplo 3: Cadena vacía ---\")\n",
    "entrada3 = \"\"\n",
    "resultado3 = generar_mayus_minus(entrada3)\n",
    "print(f\"Entrada: '{entrada3}'\")\n",
    "print(f\"Resultado: {resultado3}\")\n",
    "\n",
    "\n",
    "print(\"\\n--- Ejemplo 4: Solo caracteres no alfabéticos ---\")\n",
    "entrada4 = \"123 !@#\"\n",
    "resultado4 = generar_mayus_minus(entrada4)\n",
    "print(f\"Entrada: '{entrada4}'\")\n",
    "print(f\"Resultado: {resultado4}\")\n",
    "\n",
    "\n",
    "print(\"\\n--- Ejemplo 5: Solo mayúsculas/minúsculas repetidas ---\")\n",
    "entrada5 = \"AaBbAABbC\"\n",
    "resultado5 = generar_mayus_minus(entrada5)\n",
    "print(f\"Entrada: '{entrada5}'\")\n",
    "print(f\"Resultado: {resultado5}\")\n"
   ]
  },
  {
   "cell_type": "markdown",
   "id": "9abbfaf0",
   "metadata": {},
   "source": [
    "14. Crea una función que retorne las palabras de una lista de palabras que comience con una letra en específico. Usa la función filter()."
   ]
  },
  {
   "cell_type": "code",
   "execution_count": 14,
   "id": "cc743dfc",
   "metadata": {},
   "outputs": [],
   "source": [
    "def filtrar_palabras_por_letra(lista_palabras, letra_inicial):\n",
    "    \"\"\"\n",
    "    Retorna una lista de palabras que comienzan con una letra específica,\n",
    "    sin distinguir entre mayúsculas y minúsculas.\n",
    "\n",
    "    Args:\n",
    "        lista_palabras (list): Una lista de cadenas (palabras).\n",
    "        letra_inicial (str): La letra por la que deben comenzar las palabras.\n",
    "                             Se considera solo el primer carácter.\n",
    "\n",
    "    Returns:\n",
    "        list: Una nueva lista con las palabras filtradas.\n",
    "    \"\"\"\n",
    "    # Convertimos la letra_inicial a minúscula para una comparación sin distinguir mayúsculas/minúsculas\n",
    "    letra_buscada = letra_inicial.lower()\n",
    "\n",
    "    # Usamos filter() con una función lambda.\n",
    "    # La función lambda verifica si la palabra (convertida a minúscula)\n",
    "    # comienza con la letra_buscada.\n",
    "    palabras_filtradas = list(filter(lambda palabra: palabra.lower().startswith(letra_buscada), lista_palabras))\n",
    "\n",
    "    return palabras_filtradas\n",
    "\n"
   ]
  },
  {
   "cell_type": "code",
   "execution_count": 16,
   "id": "e5194c9c",
   "metadata": {},
   "outputs": [
    {
     "name": "stdout",
     "output_type": "stream",
     "text": [
      "--- Ejemplo 1: Buscar palabras que empiezan con 'M' ---\n",
      "Lista original: ['Manzana', 'Banana', 'pera', 'mango', 'Melocotón', 'uva', 'Naranja']\n",
      "Palabras que empiezan con 'M': ['Manzana', 'mango', 'Melocotón']\n",
      "\n",
      "--- Ejemplo 2: Buscar palabras que empiezan con 'p' (minúscula) ---\n",
      "Lista original: ['Manzana', 'Banana', 'pera', 'mango', 'Melocotón', 'uva', 'Naranja']\n",
      "Palabras que empiezan con 'p': ['pera']\n",
      "\n",
      "--- Ejemplo 3: Buscar palabras que empiezan con 'B' ---\n",
      "Lista original: ['Manzana', 'Banana', 'pera', 'mango', 'Melocotón', 'uva', 'Naranja']\n",
      "Palabras que empiezan con 'B': ['Banana']\n",
      "\n",
      "--- Ejemplo 4: Buscar palabras con una letra que no existe ---\n",
      "Lista original: ['Manzana', 'Banana', 'pera', 'mango', 'Melocotón', 'uva', 'Naranja']\n",
      "Palabras que empiezan con 'Z': []\n",
      "\n",
      "--- Ejemplo 5: Lista de palabras vacía ---\n",
      "Lista original: []\n",
      "Palabras que empiezan con 'a': []\n"
     ]
    }
   ],
   "source": [
    "# --- Ejemplos de uso ---\n",
    "palabras1 = [\"Manzana\", \"Banana\", \"pera\", \"mango\", \"Melocotón\", \"uva\", \"Naranja\"]\n",
    "\n",
    "print(\"--- Ejemplo 1: Buscar palabras que empiezan con 'M' ---\")\n",
    "letra1 = \"M\"\n",
    "resultado1 = filtrar_palabras_por_letra(palabras1, letra1)\n",
    "print(f\"Lista original: {palabras1}\")\n",
    "print(f\"Palabras que empiezan con '{letra1}': {resultado1}\")\n",
    "\n",
    "\n",
    "print(\"\\n--- Ejemplo 2: Buscar palabras que empiezan con 'p' (minúscula) ---\")\n",
    "letra2 = \"p\"\n",
    "resultado2 = filtrar_palabras_por_letra(palabras1, letra2)\n",
    "print(f\"Lista original: {palabras1}\")\n",
    "print(f\"Palabras que empiezan con '{letra2}': {resultado2}\")\n",
    "\n",
    "\n",
    "print(\"\\n--- Ejemplo 3: Buscar palabras que empiezan con 'B' ---\")\n",
    "letra3 = \"B\"\n",
    "resultado3 = filtrar_palabras_por_letra(palabras1, letra3)\n",
    "print(f\"Lista original: {palabras1}\")\n",
    "print(f\"Palabras que empiezan con '{letra3}': {resultado3}\")\n",
    "\n",
    "\n",
    "print(\"\\n--- Ejemplo 4: Buscar palabras con una letra que no existe ---\")\n",
    "letra4 = \"Z\"\n",
    "resultado4 = filtrar_palabras_por_letra(palabras1, letra4)\n",
    "print(f\"Lista original: {palabras1}\")\n",
    "print(f\"Palabras que empiezan con '{letra4}': {resultado4}\")\n",
    "\n",
    "\n",
    "print(\"\\n--- Ejemplo 5: Lista de palabras vacía ---\")\n",
    "palabras_vacias = []\n",
    "letra5 = \"a\"\n",
    "resultado5 = filtrar_palabras_por_letra(palabras_vacias, letra5)\n",
    "print(f\"Lista original: {palabras_vacias}\")\n",
    "print(f\"Palabras que empiezan con '{letra5}': {resultado5}\")\n"
   ]
  },
  {
   "cell_type": "markdown",
   "id": "3f264bb9",
   "metadata": {},
   "source": [
    "15. Crea una función lambda que sume 3 a cada número de una lista dada."
   ]
  },
  {
   "cell_type": "code",
   "execution_count": 19,
   "id": "f6f25ee3",
   "metadata": {},
   "outputs": [],
   "source": [
    "def sumar_tres_a_lista(lista_numeros):\n",
    "    \"\"\"\n",
    "    Suma 3 a cada número en una lista dada usando una función lambda y map().\n",
    "\n",
    "    Args:\n",
    "        lista_numeros (list): La lista de números enteros o flotantes.\n",
    "\n",
    "    Returns:\n",
    "        list: Una nueva lista con cada número incrementado en 3.\n",
    "    \"\"\"\n",
    "    # La función lambda 'lambda x: x + 3' toma un número 'x' y le suma 3.\n",
    "    # map() aplica esta función lambda a cada elemento de 'lista_numeros'.\n",
    "    # Finalmente, convertimos el objeto map a una lista.\n",
    "    nueva_lista = list(map(lambda x: x + 3, lista_numeros))\n",
    "    return nueva_lista\n",
    "\n"
   ]
  },
  {
   "cell_type": "code",
   "execution_count": 20,
   "id": "be092fec",
   "metadata": {},
   "outputs": [
    {
     "name": "stdout",
     "output_type": "stream",
     "text": [
      "Lista original: [1, 2, 3, 4, 5]\n",
      "Lista + 3: [4, 5, 6, 7, 8]\n",
      "\n",
      "Lista original: [10, 20, 30]\n",
      "Lista + 3: [13, 23, 33]\n",
      "\n",
      "Lista original: [-5, 0, 5]\n",
      "Lista + 3: [-2, 3, 8]\n",
      "\n",
      "Lista original: []\n",
      "Lista + 3: []\n"
     ]
    }
   ],
   "source": [
    "# --- Ejemplos de uso ---\n",
    "numeros1 = [1, 2, 3, 4, 5]\n",
    "print(f\"Lista original: {numeros1}\")\n",
    "print(f\"Lista + 3: {sumar_tres_a_lista(numeros1)}\")\n",
    "\n",
    "\n",
    "numeros2 = [10, 20, 30]\n",
    "print(f\"\\nLista original: {numeros2}\")\n",
    "print(f\"Lista + 3: {sumar_tres_a_lista(numeros2)}\")\n",
    "\n",
    "\n",
    "numeros3 = [-5, 0, 5]\n",
    "print(f\"\\nLista original: {numeros3}\")\n",
    "print(f\"Lista + 3: {sumar_tres_a_lista(numeros3)}\")\n",
    "\n",
    "\n",
    "numeros4 = []\n",
    "print(f\"\\nLista original: {numeros4}\")\n",
    "print(f\"Lista + 3: {sumar_tres_a_lista(numeros4)}\")\n"
   ]
  },
  {
   "cell_type": "markdown",
   "id": "0c33ae0b",
   "metadata": {},
   "source": [
    "16. Escribe una función que tome una cadena de texto y un número entero n como parámetros y devuelva una lista de todas las palabras que sean más largas que n. Ussa la función filter()."
   ]
  },
  {
   "cell_type": "code",
   "execution_count": 21,
   "id": "b2b845a0",
   "metadata": {},
   "outputs": [],
   "source": [
    "def palabras_mas_largas_que_n(cadena_texto, n):\n",
    "    \"\"\"\n",
    "    Devuelve una lista de palabras de la cadena de texto que son más largas que n.\n",
    "\n",
    "    Args:\n",
    "        cadena_texto (str): La cadena de texto de entrada.\n",
    "        n (int): El número entero para comparar la longitud de las palabras.\n",
    "\n",
    "    Returns:\n",
    "        list: Una lista de palabras que tienen una longitud mayor que n.\n",
    "    \"\"\"\n",
    "    # Dividimos la cadena en palabras.\n",
    "    # .split() sin argumentos maneja múltiples espacios y espacios al inicio/final.\n",
    "    palabras = cadena_texto.split()\n",
    "\n",
    "    # Usamos filter() con una función lambda para filtrar las palabras.\n",
    "    # La función lambda verifica si la longitud de la palabra es mayor que n.\n",
    "    palabras_filtradas = list(filter(lambda palabra: len(palabra) > n, palabras))\n",
    "\n",
    "    return palabras_filtradas\n",
    "\n"
   ]
  },
  {
   "cell_type": "code",
   "execution_count": 22,
   "id": "ade01341",
   "metadata": {},
   "outputs": [
    {
     "name": "stdout",
     "output_type": "stream",
     "text": [
      "--- Ejemplo 1: Palabras más largas que 3 ---\n",
      "Frase: 'Este es un ejemplo de una frase con varias palabras de diferente longitud'\n",
      "Palabras más largas que 3: ['Este', 'ejemplo', 'frase', 'varias', 'palabras', 'diferente', 'longitud']\n",
      "\n",
      "--- Ejemplo 2: Palabras más largas que 5 ---\n",
      "Frase: 'Este es un ejemplo de una frase con varias palabras de diferente longitud'\n",
      "Palabras más largas que 5: ['ejemplo', 'varias', 'palabras', 'diferente', 'longitud']\n",
      "\n",
      "--- Ejemplo 3: Palabras más largas que 10 ---\n",
      "Frase: 'Este es un ejemplo de una frase con varias palabras de diferente longitud'\n",
      "Palabras más largas que 10: []\n",
      "\n",
      "--- Ejemplo 4: Cadena vacía ---\n",
      "Frase: ''\n",
      "Palabras más largas que 2: []\n",
      "\n",
      "--- Ejemplo 5: Sin palabras que cumplan la condición ---\n",
      "Frase: 'a b c d e f g'\n",
      "Palabras más largas que 1: []\n"
     ]
    }
   ],
   "source": [
    "# --- Ejemplos de uso ---\n",
    "frase_ejemplo = \"Este es un ejemplo de una frase con varias palabras de diferente longitud\"\n",
    "\n",
    "print(\"--- Ejemplo 1: Palabras más largas que 3 ---\")\n",
    "n1 = 3\n",
    "resultado1 = palabras_mas_largas_que_n(frase_ejemplo, n1)\n",
    "print(f\"Frase: '{frase_ejemplo}'\")\n",
    "print(f\"Palabras más largas que {n1}: {resultado1}\")\n",
    "\n",
    "\n",
    "print(\"\\n--- Ejemplo 2: Palabras más largas que 5 ---\")\n",
    "n2 = 5\n",
    "resultado2 = palabras_mas_largas_que_n(frase_ejemplo, n2)\n",
    "print(f\"Frase: '{frase_ejemplo}'\")\n",
    "print(f\"Palabras más largas que {n2}: {resultado2}\")\n",
    "\n",
    "print(\"\\n--- Ejemplo 3: Palabras más largas que 10 ---\")\n",
    "n3 = 10\n",
    "resultado3 = palabras_mas_largas_que_n(frase_ejemplo, n3)\n",
    "print(f\"Frase: '{frase_ejemplo}'\")\n",
    "print(f\"Palabras más largas que {n3}: {resultado3}\")\n",
    "\n",
    "print(\"\\n--- Ejemplo 4: Cadena vacía ---\")\n",
    "frase_vacia = \"\"\n",
    "n4 = 2\n",
    "resultado4 = palabras_mas_largas_que_n(frase_vacia, n4)\n",
    "print(f\"Frase: '{frase_vacia}'\")\n",
    "print(f\"Palabras más largas que {n4}: {resultado4}\")\n",
    "\n",
    "\n",
    "print(\"\\n--- Ejemplo 5: Sin palabras que cumplan la condición ---\")\n",
    "frase_corta = \"a b c d e f g\"\n",
    "n5 = 1\n",
    "resultado5 = palabras_mas_largas_que_n(frase_corta, n5)\n",
    "print(f\"Frase: '{frase_corta}'\")\n",
    "print(f\"Palabras más largas que {n5}: {resultado5}\")\n"
   ]
  },
  {
   "cell_type": "markdown",
   "id": "ac4b49f3",
   "metadata": {},
   "source": [
    "17. Crea una función que tome una lista de dígitos y devuelva el número correspondiente. Por ejemplo, [5,7,2] corresponde al número quinientos setento y dos (572). Usa la función reduce()."
   ]
  },
  {
   "cell_type": "code",
   "execution_count": 23,
   "id": "778a6e5b",
   "metadata": {},
   "outputs": [],
   "source": [
    "from functools import reduce\n",
    "\n",
    "def lista_a_numero(lista_digitos):\n",
    "    \"\"\"\n",
    "    Convierte una lista de dígitos en el número entero correspondiente.\n",
    "\n",
    "    Args:\n",
    "        lista_digitos (list): Una lista de dígitos (enteros del 0 al 9).\n",
    "\n",
    "    Returns:\n",
    "        int: El número entero formado por los dígitos.\n",
    "             Retorna 0 si la lista está vacía.\n",
    "    \"\"\"\n",
    "    if not lista_digitos:\n",
    "        return 0\n",
    "\n",
    "    # La función lambda 'acumulador, digito: acumulador * 10 + digito'\n",
    "    # toma el número que se ha formado hasta ahora (acumulador)\n",
    "    # y el siguiente dígito. Multiplica el acumulador por 10 y le suma el dígito.\n",
    "    # El valor inicial del acumulador (el tercer argumento de reduce) es 0.\n",
    "    numero_resultante = reduce(lambda acumulador, digito: acumulador * 10 + digito, lista_digitos)\n",
    "    return numero_resultante\n",
    "\n"
   ]
  },
  {
   "cell_type": "code",
   "execution_count": 24,
   "id": "f5fdf8c3",
   "metadata": {},
   "outputs": [
    {
     "name": "stdout",
     "output_type": "stream",
     "text": [
      "--- Ejemplo 1: Dígitos básicos ---\n",
      "Lista de dígitos: [5, 7, 2] -> Número: 572\n",
      "\n",
      "--- Ejemplo 2: Un solo dígito ---\n",
      "Lista de dígitos: [9] -> Número: 9\n",
      "\n",
      "--- Ejemplo 3: Lista con cero ---\n",
      "Lista de dígitos: [1, 0, 3] -> Número: 103\n",
      "\n",
      "--- Ejemplo 4: Lista vacía ---\n",
      "Lista de dígitos: [] -> Número: 0\n",
      "\n",
      "--- Ejemplo 5: Dígitos más grandes ---\n",
      "Lista de dígitos: [1, 2, 3, 4, 5, 6, 7, 8, 9, 0] -> Número: 1234567890\n"
     ]
    }
   ],
   "source": [
    "# --- Ejemplos de uso ---\n",
    "print(\"--- Ejemplo 1: Dígitos básicos ---\")\n",
    "digitos1 = [5, 7, 2]\n",
    "resultado1 = lista_a_numero(digitos1)\n",
    "print(f\"Lista de dígitos: {digitos1} -> Número: {resultado1}\")\n",
    "\n",
    "\n",
    "print(\"\\n--- Ejemplo 2: Un solo dígito ---\")\n",
    "digitos2 = [9]\n",
    "resultado2 = lista_a_numero(digitos2)\n",
    "print(f\"Lista de dígitos: {digitos2} -> Número: {resultado2}\")\n",
    "\n",
    "\n",
    "print(\"\\n--- Ejemplo 3: Lista con cero ---\")\n",
    "digitos3 = [1, 0, 3]\n",
    "resultado3 = lista_a_numero(digitos3)\n",
    "print(f\"Lista de dígitos: {digitos3} -> Número: {resultado3}\")\n",
    "\n",
    "\n",
    "print(\"\\n--- Ejemplo 4: Lista vacía ---\")\n",
    "digitos4 = []\n",
    "resultado4 = lista_a_numero(digitos4)\n",
    "print(f\"Lista de dígitos: {digitos4} -> Número: {resultado4}\")\n",
    "\n",
    "\n",
    "print(\"\\n--- Ejemplo 5: Dígitos más grandes ---\")\n",
    "digitos5 = [1, 2, 3, 4, 5, 6, 7, 8, 9, 0]\n",
    "resultado5 = lista_a_numero(digitos5)\n",
    "print(f\"Lista de dígitos: {digitos5} -> Número: {resultado5}\")\n"
   ]
  },
  {
   "cell_type": "markdown",
   "id": "fd1936f2",
   "metadata": {},
   "source": [
    "18. Escribe un programa en Python que cree una lista de diccionarios que contenga información de estudiantes (nombre, edad, calificación) y use la función filter() para extraer a los estudiantes con una calificación mayor o igual a 90. Usa la función filter()."
   ]
  },
  {
   "cell_type": "code",
   "execution_count": 27,
   "id": "e8ebeb31",
   "metadata": {},
   "outputs": [],
   "source": [
    "def filtrar_estudiantes_sobresalientes(lista_estudiantes):\n",
    "    \"\"\"\n",
    "    Filtra una lista de diccionarios de estudiantes y devuelve aquellos\n",
    "    cuya calificación es 90 o más.\n",
    "\n",
    "    Args:\n",
    "        lista_estudiantes (list): Una lista de diccionarios, donde cada diccionario\n",
    "                                  tiene las claves 'nombre', 'edad', y 'calificacion'.\n",
    "\n",
    "    Returns:\n",
    "        list: Una nueva lista de diccionarios con los estudiantes filtrados.\n",
    "    \"\"\"\n",
    "    # Usamos filter() con una función lambda.\n",
    "    # La función lambda toma un diccionario 'estudiante' y verifica\n",
    "    # si el valor asociado a la clave 'calificacion' es mayor o igual a 90.\n",
    "    estudiantes_sobresalientes = list(filter(lambda estudiante: estudiante['calificacion'] >= 90, lista_estudiantes))\n",
    "    return estudiantes_sobresalientes\n",
    "\n",
    "\n",
    "\n"
   ]
  },
  {
   "cell_type": "code",
   "execution_count": 28,
   "id": "1e681d9c",
   "metadata": {},
   "outputs": [],
   "source": [
    "# --- Creación de la lista de estudiantes ---\n",
    "estudiantes = [\n",
    "    {\"nombre\": \"Ana\", \"edad\": 20, \"calificacion\": 85},\n",
    "    {\"nombre\": \"Luis\", \"edad\": 22, \"calificacion\": 92},\n",
    "    {\"nombre\": \"Marta\", \"edad\": 21, \"calificacion\": 78},\n",
    "    {\"nombre\": \"Pedro\", \"edad\": 19, \"calificacion\": 95},\n",
    "    {\"nombre\": \"Sofía\", \"edad\": 20, \"calificacion\": 89},\n",
    "    {\"nombre\": \"Carlos\", \"edad\": 23, \"calificacion\": 90},\n",
    "    {\"nombre\": \"Elena\", \"edad\": 21, \"calificacion\": 75}\n",
    "]\n",
    "\n"
   ]
  },
  {
   "cell_type": "code",
   "execution_count": 29,
   "id": "9a777a06",
   "metadata": {},
   "outputs": [
    {
     "name": "stdout",
     "output_type": "stream",
     "text": [
      "--- Lista completa de estudiantes ---\n",
      "{'nombre': 'Ana', 'edad': 20, 'calificacion': 85}\n",
      "{'nombre': 'Luis', 'edad': 22, 'calificacion': 92}\n",
      "{'nombre': 'Marta', 'edad': 21, 'calificacion': 78}\n",
      "{'nombre': 'Pedro', 'edad': 19, 'calificacion': 95}\n",
      "{'nombre': 'Sofía', 'edad': 20, 'calificacion': 89}\n",
      "{'nombre': 'Carlos', 'edad': 23, 'calificacion': 90}\n",
      "{'nombre': 'Elena', 'edad': 21, 'calificacion': 75}\n",
      "\n",
      "--- Estudiantes con calificación >= 90 ---\n",
      "{'nombre': 'Luis', 'edad': 22, 'calificacion': 92}\n",
      "{'nombre': 'Pedro', 'edad': 19, 'calificacion': 95}\n",
      "{'nombre': 'Carlos', 'edad': 23, 'calificacion': 90}\n"
     ]
    }
   ],
   "source": [
    "# --- Uso de la función para filtrar estudiantes ---\n",
    "print(\"--- Lista completa de estudiantes ---\")\n",
    "for estudiante in estudiantes:\n",
    "    print(estudiante)\n",
    "\n",
    "estudiantes_destacados = filtrar_estudiantes_sobresalientes(estudiantes)\n",
    "\n",
    "print(\"\\n--- Estudiantes con calificación >= 90 ---\")\n",
    "if estudiantes_destacados:\n",
    "    for estudiante in estudiantes_destacados:\n",
    "        print(estudiante)\n",
    "else:\n",
    "    print(\"No se encontraron estudiantes con calificación mayor o igual a 90.\")"
   ]
  },
  {
   "cell_type": "markdown",
   "id": "3a47a0cd",
   "metadata": {},
   "source": [
    "19. Crea una función lambda que filtre los números impares de una lista dada"
   ]
  },
  {
   "cell_type": "code",
   "execution_count": 30,
   "id": "425dc837",
   "metadata": {},
   "outputs": [],
   "source": [
    "def filtrar_impares(lista_numeros):\n",
    "    \"\"\"\n",
    "    Filtra los números impares de una lista dada usando una función lambda y filter().\n",
    "\n",
    "    Args:\n",
    "        lista_numeros (list): La lista de números enteros.\n",
    "\n",
    "    Returns:\n",
    "        list: Una nueva lista con solo los números impares.\n",
    "    \"\"\"\n",
    "    # La función lambda 'lambda x: x % 2 != 0' comprueba si un número 'x' es impar.\n",
    "    # 'x % 2' da el resto de dividir x por 2. Si el resto no es 0, el número es impar.\n",
    "    # filter() aplica esta lambda a cada elemento de la lista y solo mantiene los True.\n",
    "    numeros_impares = list(filter(lambda x: x % 2 != 0, lista_numeros))\n",
    "    return numeros_impares\n",
    "\n"
   ]
  },
  {
   "cell_type": "code",
   "execution_count": 31,
   "id": "47fe03fe",
   "metadata": {},
   "outputs": [
    {
     "name": "stdout",
     "output_type": "stream",
     "text": [
      "Lista original: [1, 2, 3, 4, 5, 6, 7, 8, 9, 10]\n",
      "Números impares: [1, 3, 5, 7, 9]\n",
      "\n",
      "Lista original: [10, 20, 30, 41, 55]\n",
      "Números impares: [41, 55]\n",
      "\n",
      "Lista original: [2, 4, 6, 8, 10]\n",
      "Números impares: []\n",
      "\n",
      "Lista original: []\n",
      "Números impares: []\n",
      "\n",
      "Lista original: [1, 3, 5]\n",
      "Números impares: [1, 3, 5]\n"
     ]
    }
   ],
   "source": [
    "# --- Ejemplos de uso ---\n",
    "numeros1 = [1, 2, 3, 4, 5, 6, 7, 8, 9, 10]\n",
    "print(f\"Lista original: {numeros1}\")\n",
    "print(f\"Números impares: {filtrar_impares(numeros1)}\")\n",
    "\n",
    "numeros2 = [10, 20, 30, 41, 55]\n",
    "print(f\"\\nLista original: {numeros2}\")\n",
    "print(f\"Números impares: {filtrar_impares(numeros2)}\")\n",
    "\n",
    "numeros3 = [2, 4, 6, 8, 10]\n",
    "print(f\"\\nLista original: {numeros3}\")\n",
    "print(f\"Números impares: {filtrar_impares(numeros3)}\")\n",
    "\n",
    "\n",
    "numeros4 = []\n",
    "print(f\"\\nLista original: {numeros4}\")\n",
    "print(f\"Números impares: {filtrar_impares(numeros4)}\")\n",
    "\n",
    "\n",
    "numeros5 = [1, 3, 5]\n",
    "print(f\"\\nLista original: {numeros5}\")\n",
    "print(f\"Números impares: {filtrar_impares(numeros5)}\")\n"
   ]
  },
  {
   "cell_type": "markdown",
   "id": "d9512694",
   "metadata": {},
   "source": [
    "20. Para una lista con elementos tipo integer y string obtén una nueva lista sólo con los valores int. Usa la función \n",
    "filter()"
   ]
  },
  {
   "cell_type": "code",
   "execution_count": 32,
   "id": "fa9b142b",
   "metadata": {},
   "outputs": [],
   "source": [
    "def filtrar_solo_enteros(lista_mixta):\n",
    "    \"\"\"\n",
    "    Filtra una lista que contiene elementos de diferentes tipos y devuelve\n",
    "    una nueva lista solo con los valores enteros (int).\n",
    "\n",
    "    Args:\n",
    "        lista_mixta (list): Una lista que puede contener enteros, cadenas, etc.\n",
    "\n",
    "    Returns:\n",
    "        list: Una nueva lista que contiene solo los elementos de tipo int.\n",
    "    \"\"\"\n",
    "    # La función lambda 'lambda x: isinstance(x, int)' comprueba si el tipo de 'x' es un entero.\n",
    "    # isinstance(objeto, tipo) devuelve True si el objeto es una instancia de la clase tipo (o de una subclase).\n",
    "    # filter() aplicará esta condición a cada elemento de la lista_mixta.\n",
    "    enteros_filtrados = list(filter(lambda x: isinstance(x, int), lista_mixta))\n",
    "    return enteros_filtrados\n",
    "\n"
   ]
  },
  {
   "cell_type": "code",
   "execution_count": 33,
   "id": "b687a964",
   "metadata": {},
   "outputs": [
    {
     "name": "stdout",
     "output_type": "stream",
     "text": [
      "Lista original: [1, 'hola', 3, 4.5, 'mundo', 7, True, 'Python', 99]\n",
      "Solo enteros: [1, 3, 7, True, 99]\n",
      "\n",
      "Lista original: ['manzana', 100, 'pera', 200, 'uva']\n",
      "Solo enteros: [100, 200]\n",
      "\n",
      "Lista original: ['solo', 'strings', 'aqui']\n",
      "Solo enteros: []\n",
      "\n",
      "Lista original: []\n",
      "Solo enteros: []\n"
     ]
    }
   ],
   "source": [
    "# --- Ejemplos de uso ---\n",
    "lista1 = [1, \"hola\", 3, 4.5, \"mundo\", 7, True, \"Python\", 99]\n",
    "print(f\"Lista original: {lista1}\")\n",
    "print(f\"Solo enteros: {filtrar_solo_enteros(lista1)}\")\n",
    "\n",
    "\n",
    "lista2 = [\"manzana\", 100, \"pera\", 200, \"uva\"]\n",
    "print(f\"\\nLista original: {lista2}\")\n",
    "print(f\"Solo enteros: {filtrar_solo_enteros(lista2)}\")\n",
    "\n",
    "lista3 = [\"solo\", \"strings\", \"aqui\"]\n",
    "print(f\"\\nLista original: {lista3}\")\n",
    "print(f\"Solo enteros: {filtrar_solo_enteros(lista3)}\")\n",
    "\n",
    "\n",
    "lista4 = []\n",
    "print(f\"\\nLista original: {lista4}\")\n",
    "print(f\"Solo enteros: {filtrar_solo_enteros(lista4)}\")\n",
    "\n"
   ]
  },
  {
   "cell_type": "markdown",
   "id": "5603acfb",
   "metadata": {},
   "source": [
    "21. Crea una función que calcule el cubo de un número dado mediante una función \n",
    "lambda"
   ]
  },
  {
   "cell_type": "code",
   "execution_count": 52,
   "id": "16df4e6d",
   "metadata": {},
   "outputs": [],
   "source": [
    "def calcular_cubo(numero):\n",
    "    \"\"\"\n",
    "    Calcula el cubo de un número dado utilizando una función lambda.\n",
    "\n",
    "    Args:\n",
    "        numero (int or float): El número del cual se calculará el cubo.\n",
    "\n",
    "    Returns:\n",
    "        int or float: El cubo del número.\n",
    "    \"\"\"\n",
    "    # Define una función lambda que toma un argumento 'x' y devuelve x elevado a la potencia de 3 (x**3).\n",
    "    cubo_lambda = lambda x: x**3\n",
    "    \n",
    "    # Aplica la función lambda al número dado.\n",
    "    return cubo_lambda(numero)\n",
    "\n"
   ]
  },
  {
   "cell_type": "code",
   "execution_count": 53,
   "id": "6c8848df",
   "metadata": {},
   "outputs": [
    {
     "name": "stdout",
     "output_type": "stream",
     "text": [
      "--- Ejemplos con números enteros ---\n",
      "El cubo de 2 es: 8\n",
      "El cubo de 5 es: 125\n",
      "El cubo de -3 es: -27\n",
      "\n",
      "--- Ejemplos con números flotantes ---\n",
      "El cubo de 1.5 es: 3.375\n",
      "El cubo de 0.1 es: 0.0010000000000000002\n",
      "\n",
      "--- Ejemplo con cero ---\n",
      "El cubo de 0 es: 0\n"
     ]
    }
   ],
   "source": [
    "# --- Ejemplos de uso ---\n",
    "print(\"--- Ejemplos con números enteros ---\")\n",
    "num1 = 2\n",
    "print(f'El cubo de {num1} es: {calcular_cubo(num1)}') \n",
    "\n",
    "num2 = 5\n",
    "print(f\"El cubo de {num2} es: {calcular_cubo(num2)}\") \n",
    "\n",
    "num3 = -3\n",
    "print(f\"El cubo de {num3} es: {calcular_cubo(num3)}\") \n",
    "\n",
    "print(\"\\n--- Ejemplos con números flotantes ---\")\n",
    "num4 = 1.5\n",
    "print(f\"El cubo de {num4} es: {calcular_cubo(num4)}\") \n",
    "\n",
    "num5 = 0.1\n",
    "print(f\"El cubo de {num5} es: {calcular_cubo(num5)}\") \n",
    "\n",
    "print(\"\\n--- Ejemplo con cero ---\")\n",
    "num6 = 0\n",
    "print(f\"El cubo de {num6} es: {calcular_cubo(num6)}\") "
   ]
  },
  {
   "cell_type": "markdown",
   "id": "a9ce1427",
   "metadata": {},
   "source": [
    "22. Dada una lista numérica, obtén el producto total de los valores de dicha lista.Usa la función reduce() ."
   ]
  },
  {
   "cell_type": "code",
   "execution_count": 54,
   "id": "29cc00e0",
   "metadata": {},
   "outputs": [],
   "source": [
    "from functools import reduce\n",
    "\n",
    "def producto_total_lista(lista_numeros):\n",
    "    \"\"\"\n",
    "    Calcula el producto total de todos los números en una lista dada.\n",
    "\n",
    "    Args:\n",
    "        lista_numeros (list): Una lista de números (enteros o flotantes).\n",
    "\n",
    "    Returns:\n",
    "        int or float: El producto de todos los números en la lista.\n",
    "                      Retorna 1 si la lista está vacía (el elemento neutro de la multiplicación).\n",
    "    \"\"\"\n",
    "    # Si la lista está vacía, el producto es 1 (elemento neutro de la multiplicación).\n",
    "    if not lista_numeros:\n",
    "        return 1\n",
    "\n",
    "    # La función lambda 'acumulador, numero: acumulador * numero'\n",
    "    # toma el producto que se ha acumulado hasta ahora y lo multiplica\n",
    "    # por el siguiente número de la lista.\n",
    "    # El valor inicial del acumulador (el tercer argumento de reduce) es 1.\n",
    "    producto_final = reduce(lambda acumulador, numero: acumulador * numero, lista_numeros, 1)\n",
    "    return producto_final\n",
    "\n"
   ]
  },
  {
   "cell_type": "code",
   "execution_count": 55,
   "id": "6f916bad",
   "metadata": {},
   "outputs": [
    {
     "name": "stdout",
     "output_type": "stream",
     "text": [
      "--- Ejemplo 1: Lista con números positivos ---\n",
      "Lista: [1, 2, 3, 4, 5] -> Producto total: 120\n",
      "\n",
      "--- Ejemplo 2: Lista con números negativos ---\n",
      "Lista: [2, -3, 4] -> Producto total: -24\n",
      "\n",
      "--- Ejemplo 3: Lista con un cero ---\n",
      "Lista: [10, 20, 0, 5] -> Producto total: 0\n",
      "\n",
      "--- Ejemplo 4: Lista con un solo número ---\n",
      "Lista: [7] -> Producto total: 7\n",
      "\n",
      "--- Ejemplo 5: Lista vacía ---\n",
      "Lista: [] -> Producto total: 1\n",
      "\n",
      "--- Ejemplo 6: Lista con números flotantes ---\n",
      "Lista: [2.5, 2, 3.0] -> Producto total: 15.0\n"
     ]
    }
   ],
   "source": [
    "# --- Ejemplos de uso ---\n",
    "print(\"--- Ejemplo 1: Lista con números positivos ---\")\n",
    "numeros1 = [1, 2, 3, 4, 5]\n",
    "resultado1 = producto_total_lista(numeros1)\n",
    "print(f\"Lista: {numeros1} -> Producto total: {resultado1}\")\n",
    "\n",
    "print(\"\\n--- Ejemplo 2: Lista con números negativos ---\")\n",
    "numeros2 = [2, -3, 4]\n",
    "resultado2 = producto_total_lista(numeros2)\n",
    "print(f\"Lista: {numeros2} -> Producto total: {resultado2}\")\n",
    "\n",
    "print(\"\\n--- Ejemplo 3: Lista con un cero ---\")\n",
    "numeros3 = [10, 20, 0, 5]\n",
    "resultado3 = producto_total_lista(numeros3)\n",
    "print(f\"Lista: {numeros3} -> Producto total: {resultado3}\")\n",
    "\n",
    "\n",
    "print(\"\\n--- Ejemplo 4: Lista con un solo número ---\")\n",
    "numeros4 = [7]\n",
    "resultado4 = producto_total_lista(numeros4)\n",
    "print(f\"Lista: {numeros4} -> Producto total: {resultado4}\")\n",
    "\n",
    "print(\"\\n--- Ejemplo 5: Lista vacía ---\")\n",
    "numeros5 = []\n",
    "resultado5 = producto_total_lista(numeros5)\n",
    "print(f\"Lista: {numeros5} -> Producto total: {resultado5}\")\n",
    "\n",
    "print(\"\\n--- Ejemplo 6: Lista con números flotantes ---\")\n",
    "numeros6 = [2.5, 2, 3.0]\n",
    "resultado6 = producto_total_lista(numeros6)\n",
    "print(f\"Lista: {numeros6} -> Producto total: {resultado6}\")\n"
   ]
  },
  {
   "cell_type": "markdown",
   "id": "a169c4ca",
   "metadata": {},
   "source": [
    "23. Concatena una lista de palabras.Usa la función reduce() "
   ]
  },
  {
   "cell_type": "code",
   "execution_count": 56,
   "id": "2238ab0c",
   "metadata": {},
   "outputs": [],
   "source": [
    "from functools import reduce\n",
    "\n",
    "def concatenar_palabras(lista_palabras, separador=\" \"):\n",
    "    \"\"\"\n",
    "    Concatena una lista de palabras en una sola cadena.\n",
    "\n",
    "    Args:\n",
    "        lista_palabras (list): Una lista de cadenas (palabras).\n",
    "        separador (str, optional): El separador a usar entre las palabras.\n",
    "                                   Por defecto es un espacio.\n",
    "\n",
    "    Returns:\n",
    "        str: La cadena resultante de la concatenación.\n",
    "             Retorna una cadena vacía si la lista de palabras está vacía.\n",
    "    \"\"\"\n",
    "    if not lista_palabras:\n",
    "        return \"\"\n",
    "\n",
    "    # La función lambda 'acumulador, palabra: acumulador + separador + palabra'\n",
    "    # toma la cadena que se ha formado hasta ahora (acumulador) y le añade el separador\n",
    "    # y la siguiente palabra.\n",
    "    # El valor inicial del acumulador (el tercer argumento de reduce) es el primer elemento\n",
    "    # de la lista, lo cual simplifica el manejo del separador.\n",
    "    \n",
    "    # Una forma de manejar el separador más limpia es inicializar reduce con una cadena vacía\n",
    "    # y que la lambda decida cuándo añadir el separador.\n",
    "    # Si acumulador está vacío, simplemente devuelve la palabra.\n",
    "    # Si no, devuelve acumulador + separador + palabra.\n",
    "    cadena_resultante = reduce(lambda acumulador, palabra: acumulador + separador + palabra, lista_palabras)\n",
    "    return cadena_resultante\n",
    "\n"
   ]
  },
  {
   "cell_type": "code",
   "execution_count": 57,
   "id": "ac326c77",
   "metadata": {},
   "outputs": [
    {
     "name": "stdout",
     "output_type": "stream",
     "text": [
      "--- Ejemplo 1: Concatenación básica con espacio ---\n",
      "Lista de palabras: ['Hola', 'mundo', 'esto', 'es', 'Python']\n",
      "Cadena concatenada: 'Hola mundo esto es Python'\n",
      "\n",
      "--- Ejemplo 2: Concatenación con guión ---\n",
      "Lista de palabras: ['unir', 'con', 'guiones']\n",
      "Cadena concatenada: 'unir-con-guiones'\n",
      "\n",
      "--- Ejemplo 3: Lista con un solo elemento ---\n",
      "Lista de palabras: ['unicaPalabra']\n",
      "Cadena concatenada: 'unicaPalabra'\n",
      "\n",
      "--- Ejemplo 4: Lista vacía ---\n",
      "Lista de palabras: []\n",
      "Cadena concatenada: ''\n",
      "\n",
      "--- Ejemplo 5: Sin separador ---\n",
      "Lista de palabras: ['sin', 'separador']\n",
      "Cadena concatenada: 'sinseparador'\n"
     ]
    }
   ],
   "source": [
    "# --- Ejemplos de uso ---\n",
    "print(\"--- Ejemplo 1: Concatenación básica con espacio ---\")\n",
    "palabras1 = [\"Hola\", \"mundo\", \"esto\", \"es\", \"Python\"]\n",
    "resultado1 = concatenar_palabras(palabras1)\n",
    "print(f\"Lista de palabras: {palabras1}\")\n",
    "print(f\"Cadena concatenada: '{resultado1}'\")\n",
    "\n",
    "\n",
    "print(\"\\n--- Ejemplo 2: Concatenación con guión ---\")\n",
    "palabras2 = [\"unir\", \"con\", \"guiones\"]\n",
    "resultado2 = concatenar_palabras(palabras2, separador=\"-\")\n",
    "print(f\"Lista de palabras: {palabras2}\")\n",
    "print(f\"Cadena concatenada: '{resultado2}'\")\n",
    "\n",
    "\n",
    "print(\"\\n--- Ejemplo 3: Lista con un solo elemento ---\")\n",
    "palabras3 = [\"unicaPalabra\"]\n",
    "resultado3 = concatenar_palabras(palabras3)\n",
    "print(f\"Lista de palabras: {palabras3}\")\n",
    "print(f\"Cadena concatenada: '{resultado3}'\")\n",
    "\n",
    "print(\"\\n--- Ejemplo 4: Lista vacía ---\")\n",
    "palabras4 = []\n",
    "resultado4 = concatenar_palabras(palabras4)\n",
    "print(f\"Lista de palabras: {palabras4}\")\n",
    "print(f\"Cadena concatenada: '{resultado4}'\")\n",
    "\n",
    "\n",
    "print(\"\\n--- Ejemplo 5: Sin separador ---\")\n",
    "palabras5 = [\"sin\", \"separador\"]\n",
    "resultado5 = concatenar_palabras(palabras5, separador=\"\")\n",
    "print(f\"Lista de palabras: {palabras5}\")\n",
    "print(f\"Cadena concatenada: '{resultado5}'\")\n"
   ]
  },
  {
   "cell_type": "markdown",
   "id": "413750bc",
   "metadata": {},
   "source": [
    "24. Calcula la diferencia total en los valores de una lista. Usa la función reduce()."
   ]
  },
  {
   "cell_type": "code",
   "execution_count": 58,
   "id": "e53bb7f2",
   "metadata": {},
   "outputs": [],
   "source": [
    "from functools import reduce\n",
    "\n",
    "def diferencia_total_lista(lista_numeros):\n",
    "    \"\"\"\n",
    "    Calcula la diferencia total de los valores en una lista.\n",
    "    (Es decir, el primer elemento menos el segundo, menos el tercero, y así sucesivamente).\n",
    "\n",
    "    Args:\n",
    "        lista_numeros (list): Una lista de números (enteros o flotantes).\n",
    "\n",
    "    Returns:\n",
    "        int or float: La diferencia total de los números.\n",
    "                      Retorna 0 si la lista está vacía.\n",
    "                      Retorna el número mismo si la lista contiene un solo elemento.\n",
    "    \"\"\"\n",
    "    if not lista_numeros:\n",
    "        return 0\n",
    "\n",
    "    # La función lambda 'acumulador, numero: acumulador - numero'\n",
    "    # toma el valor que se ha acumulado hasta ahora (acumulador) y le resta\n",
    "    # el siguiente número de la lista.\n",
    "    # El valor inicial del acumulador (el tercer argumento de reduce) es el primer elemento de la lista.\n",
    "    # Esto es crucial para la resta, ya que queremos empezar restando del primer número.\n",
    "    # Si no especificamos un inicial, reduce usa el primer elemento como inicial y empieza con el segundo.\n",
    "    # Pero aquí queremos que la primera operación sea (primer_elemento - segundo_elemento).\n",
    "    \n",
    "    # Si la lista tiene un solo elemento, reduce lo retorna directamente como el acumulador inicial.\n",
    "    diferencia_final = reduce(lambda acumulador, numero: acumulador - numero, lista_numeros)\n",
    "    return diferencia_final\n",
    "\n"
   ]
  },
  {
   "cell_type": "code",
   "execution_count": 59,
   "id": "8aab074c",
   "metadata": {},
   "outputs": [
    {
     "name": "stdout",
     "output_type": "stream",
     "text": [
      "--- Ejemplo 1: Lista básica ---\n",
      "Lista: [10, 2, 3] -> Diferencia total: 5\n",
      "\n",
      "--- Ejemplo 2: Números consecutivos ---\n",
      "Lista: [10, 1, 1, 1] -> Diferencia total: 7\n",
      "\n",
      "--- Ejemplo 3: Lista con un solo elemento ---\n",
      "Lista: [42] -> Diferencia total: 42\n",
      "\n",
      "--- Ejemplo 4: Lista vacía ---\n",
      "Lista: [] -> Diferencia total: 0\n",
      "\n",
      "--- Ejemplo 5: Números flotantes ---\n",
      "Lista: [10.5, 2.5, 1.0] -> Diferencia total: 7.0\n",
      "\n",
      "--- Ejemplo 6: Diferencia negativa ---\n",
      "Lista: [5, 10, 2] -> Diferencia total: -7\n"
     ]
    }
   ],
   "source": [
    "# --- Ejemplos de uso ---\n",
    "print(\"--- Ejemplo 1: Lista básica ---\")\n",
    "numeros1 = [10, 2, 3] # (10 - 2) - 3 = 8 - 3 = 5\n",
    "resultado1 = diferencia_total_lista(numeros1)\n",
    "print(f\"Lista: {numeros1} -> Diferencia total: {resultado1}\")\n",
    "\n",
    "\n",
    "print(\"\\n--- Ejemplo 2: Números consecutivos ---\")\n",
    "numeros2 = [10, 1, 1, 1] # (((10 - 1) - 1) - 1) = 9 - 1 - 1 = 7\n",
    "resultado2 = diferencia_total_lista(numeros2)\n",
    "print(f\"Lista: {numeros2} -> Diferencia total: {resultado2}\")\n",
    "\n",
    "\n",
    "print(\"\\n--- Ejemplo 3: Lista con un solo elemento ---\")\n",
    "numeros3 = [42]\n",
    "resultado3 = diferencia_total_lista(numeros3)\n",
    "print(f\"Lista: {numeros3} -> Diferencia total: {resultado3}\")\n",
    "\n",
    "\n",
    "print(\"\\n--- Ejemplo 4: Lista vacía ---\")\n",
    "numeros4 = []\n",
    "resultado4 = diferencia_total_lista(numeros4)\n",
    "print(f\"Lista: {numeros4} -> Diferencia total: {resultado4}\")\n",
    "\n",
    "\n",
    "print(\"\\n--- Ejemplo 5: Números flotantes ---\")\n",
    "numeros5 = [10.5, 2.5, 1.0] # (10.5 - 2.5) - 1.0 = 8.0 - 1.0 = 7.0\n",
    "resultado5 = diferencia_total_lista(numeros5)\n",
    "print(f\"Lista: {numeros5} -> Diferencia total: {resultado5}\")\n",
    "\n",
    "\n",
    "print(\"\\n--- Ejemplo 6: Diferencia negativa ---\")\n",
    "numeros6 = [5, 10, 2] # (5 - 10) - 2 = -5 - 2 = -7\n",
    "resultado6 = diferencia_total_lista(numeros6)\n",
    "print(f\"Lista: {numeros6} -> Diferencia total: {resultado6}\")\n"
   ]
  },
  {
   "cell_type": "markdown",
   "id": "66374112",
   "metadata": {},
   "source": [
    "25. Crea una función que cuente el número de caracteres en una cadena de texto dada"
   ]
  },
  {
   "cell_type": "code",
   "execution_count": 60,
   "id": "c062e662",
   "metadata": {},
   "outputs": [],
   "source": [
    "def contar_caracteres(cadena):\n",
    "    \"\"\"\n",
    "    Cuenta el número total de caracteres en una cadena de texto dada.\n",
    "\n",
    "    Args:\n",
    "        cadena (str): La cadena de texto a analizar.\n",
    "\n",
    "    Returns:\n",
    "        int: El número total de caracteres en la cadena.\n",
    "    \"\"\"\n",
    "    return len(cadena)\n",
    "\n"
   ]
  },
  {
   "cell_type": "code",
   "execution_count": 61,
   "id": "7001a397",
   "metadata": {},
   "outputs": [
    {
     "name": "stdout",
     "output_type": "stream",
     "text": [
      "--- Ejemplo 1: Cadena básica ---\n",
      "La cadena 'Hola mundo' tiene 10 caracteres.\n",
      "\n",
      "--- Ejemplo 2: Cadena vacía ---\n",
      "La cadena '' tiene 0 caracteres.\n",
      "\n",
      "--- Ejemplo 3: Cadena con espacios extra y caracteres especiales ---\n",
      "La cadena '  Python es genial!  ' tiene 21 caracteres.\n",
      "\n",
      "--- Ejemplo 4: Cadena con números ---\n",
      "La cadena 'La fecha es 15/07/2025' tiene 22 caracteres.\n"
     ]
    }
   ],
   "source": [
    "# --- Ejemplos de uso ---\n",
    "print(\"--- Ejemplo 1: Cadena básica ---\")\n",
    "texto1 = \"Hola mundo\"\n",
    "longitud1 = contar_caracteres(texto1)\n",
    "print(f\"La cadena '{texto1}' tiene {longitud1} caracteres.\") \n",
    "\n",
    "print(\"\\n--- Ejemplo 2: Cadena vacía ---\")\n",
    "texto2 = \"\"\n",
    "longitud2 = contar_caracteres(texto2)\n",
    "print(f\"La cadena '{texto2}' tiene {longitud2} caracteres.\") \n",
    "\n",
    "print(\"\\n--- Ejemplo 3: Cadena con espacios extra y caracteres especiales ---\")\n",
    "texto3 = \"  Python es genial!  \"\n",
    "longitud3 = contar_caracteres(texto3)\n",
    "print(f\"La cadena '{texto3}' tiene {longitud3} caracteres.\") \n",
    "\n",
    "print(\"\\n--- Ejemplo 4: Cadena con números ---\")\n",
    "texto4 = \"La fecha es 15/07/2025\"\n",
    "longitud4 = contar_caracteres(texto4)\n",
    "print(f\"La cadena '{texto4}' tiene {longitud4} caracteres.\") "
   ]
  },
  {
   "cell_type": "markdown",
   "id": "26843be7",
   "metadata": {},
   "source": [
    "26. Crea una función lambda que calcule el resto de la división entre dos números dados."
   ]
  },
  {
   "cell_type": "code",
   "execution_count": 62,
   "id": "d7ddffbf",
   "metadata": {},
   "outputs": [],
   "source": [
    "def calcular_resto(dividendo, divisor):\n",
    "    \"\"\"\n",
    "    Calcula el resto de la división entre dos números utilizando una función lambda.\n",
    "\n",
    "    Args:\n",
    "        dividendo (int or float): El número que será dividido.\n",
    "        divisor (int or float): El número por el cual se dividirá.\n",
    "\n",
    "    Returns:\n",
    "        int or float: El resto de la división.\n",
    "                      Puede lanzar ZeroDivisionError si el divisor es 0.\n",
    "    \"\"\"\n",
    "    # Define una función lambda que toma dos argumentos 'a' y 'b'\n",
    "    # y devuelve el resto de la división de 'a' por 'b' (a % b).\n",
    "    resto_lambda = lambda a, b: a % b\n",
    "    \n",
    "    # Aplica la función lambda a los números dados.\n",
    "    return resto_lambda(dividendo, divisor)\n",
    "\n"
   ]
  },
  {
   "cell_type": "code",
   "execution_count": 63,
   "id": "ce79a6af",
   "metadata": {},
   "outputs": [
    {
     "name": "stdout",
     "output_type": "stream",
     "text": [
      "--- Ejemplos básicos ---\n",
      "El resto de 10 dividido por 3 es: 1\n",
      "El resto de 7 dividido por 2 es: 1\n",
      "El resto de 15 dividido por 5 es: 0\n",
      "\n",
      "--- Ejemplos con números negativos ---\n",
      "El resto de -10 dividido por 3 es: 2\n",
      "El resto de 10 dividido por -3 es: -2\n",
      "\n",
      "--- Manejo de división por cero ---\n",
      "Error: No se puede dividir por cero.\n"
     ]
    }
   ],
   "source": [
    "# --- Ejemplos de uso ---\n",
    "print(\"--- Ejemplos básicos ---\")\n",
    "num1 = 10\n",
    "num2 = 3\n",
    "print(f\"El resto de {num1} dividido por {num2} es: {calcular_resto(num1, num2)}\") \n",
    "num3 = 7\n",
    "num4 = 2\n",
    "print(f\"El resto de {num3} dividido por {num4} es: {calcular_resto(num3, num4)}\") \n",
    "\n",
    "num5 = 15\n",
    "num6 = 5\n",
    "print(f\"El resto de {num5} dividido por {num6} es: {calcular_resto(num5, num6)}\") \n",
    "\n",
    "print(\"\\n--- Ejemplos con números negativos ---\")\n",
    "# El comportamiento del operador % con números negativos en Python puede ser contraintuitivo\n",
    "# para algunos, ya que el signo del resultado coincide con el signo del divisor.\n",
    "num7 = -10\n",
    "num8 = 3\n",
    "print(f\"El resto de {num7} dividido por {num8} es: {calcular_resto(num7, num8)}\") \n",
    "\n",
    "num9 = 10\n",
    "num10 = -3\n",
    "print(f\"El resto de {num9} dividido por {num10} es: {calcular_resto(num9, num10)}\") \n",
    "\n",
    "print(\"\\n--- Manejo de división por cero ---\")\n",
    "# Intentar dividir por cero lanzará un ZeroDivisionError.\n",
    "try:\n",
    "    num11 = 10\n",
    "    num12 = 0\n",
    "    print(f\"El resto de {num11} dividido por {num12} es: {calcular_resto(num11, num12)}\")\n",
    "except ZeroDivisionError:\n",
    "    print(\"Error: No se puede dividir por cero.\")"
   ]
  },
  {
   "cell_type": "markdown",
   "id": "55d505a1",
   "metadata": {},
   "source": [
    "27. Crea una función que calcule el promedio de una lista de números."
   ]
  },
  {
   "cell_type": "code",
   "execution_count": 64,
   "id": "9e23984d",
   "metadata": {},
   "outputs": [],
   "source": [
    "def calcular_promedio(lista_numeros):\n",
    "    \"\"\"\n",
    "    Calcula el promedio (media aritmética) de una lista de números.\n",
    "\n",
    "    Args:\n",
    "        lista_numeros (list): Una lista de números (enteros o flotantes).\n",
    "\n",
    "    Returns:\n",
    "        float: El promedio de los números en la lista.\n",
    "               Retorna 0 si la lista está vacía para evitar un ZeroDivisionError.\n",
    "    \"\"\"\n",
    "    if not lista_numeros:\n",
    "        return 0.0  # Retorna 0.0 (un flotante) para indicar que el promedio de una lista vacía es 0\n",
    "\n",
    "    suma_total = sum(lista_numeros)  # Usa la función incorporada sum() para obtener la suma de todos los elementos\n",
    "    cantidad_numeros = len(lista_numeros)  # Usa len() para obtener la cantidad de elementos en la lista\n",
    "\n",
    "    promedio = suma_total / cantidad_numeros\n",
    "    return promedio\n",
    "\n"
   ]
  },
  {
   "cell_type": "code",
   "execution_count": 65,
   "id": "145c39b5",
   "metadata": {},
   "outputs": [
    {
     "name": "stdout",
     "output_type": "stream",
     "text": [
      "--- Ejemplo 1: Lista de enteros ---\n",
      "La lista: [10, 20, 30, 40, 50]\n",
      "El promedio es: 30.0\n",
      "\n",
      "--- Ejemplo 2: Lista con números flotantes ---\n",
      "La lista: [1.5, 2.0, 2.5, 3.0]\n",
      "El promedio es: 2.25\n",
      "\n",
      "--- Ejemplo 3: Lista vacía ---\n",
      "La lista: []\n",
      "El promedio es: 0.0\n",
      "\n",
      "--- Ejemplo 4: Lista con un solo número ---\n",
      "La lista: [100]\n",
      "El promedio es: 100.0\n",
      "\n",
      "--- Ejemplo 5: Lista con números negativos ---\n",
      "La lista: [5, -5, 10, -10]\n",
      "El promedio es: 0.0\n"
     ]
    }
   ],
   "source": [
    "# --- Ejemplos de uso ---\n",
    "print(\"--- Ejemplo 1: Lista de enteros ---\")\n",
    "numeros1 = [10, 20, 30, 40, 50]\n",
    "promedio1 = calcular_promedio(numeros1)\n",
    "print(f\"La lista: {numeros1}\")\n",
    "print(f\"El promedio es: {promedio1}\") \n",
    "\n",
    "print(\"\\n--- Ejemplo 2: Lista con números flotantes ---\")\n",
    "numeros2 = [1.5, 2.0, 2.5, 3.0]\n",
    "promedio2 = calcular_promedio(numeros2)\n",
    "print(f\"La lista: {numeros2}\")\n",
    "print(f\"El promedio es: {promedio2}\") \n",
    "\n",
    "print(\"\\n--- Ejemplo 3: Lista vacía ---\")\n",
    "numeros3 = []\n",
    "promedio3 = calcular_promedio(numeros3)\n",
    "print(f\"La lista: {numeros3}\")\n",
    "print(f\"El promedio es: {promedio3}\") \n",
    "\n",
    "print(\"\\n--- Ejemplo 4: Lista con un solo número ---\")\n",
    "numeros4 = [100]\n",
    "promedio4 = calcular_promedio(numeros4)\n",
    "print(f\"La lista: {numeros4}\")\n",
    "print(f\"El promedio es: {promedio4}\") \n",
    "\n",
    "print(\"\\n--- Ejemplo 5: Lista con números negativos ---\")\n",
    "numeros5 = [5, -5, 10, -10]\n",
    "promedio5 = calcular_promedio(numeros5)\n",
    "print(f\"La lista: {numeros5}\")\n",
    "print(f\"El promedio es: {promedio5}\") "
   ]
  },
  {
   "cell_type": "markdown",
   "id": "162d90a6",
   "metadata": {},
   "source": [
    "28. Crea una función que busque y devuelva el primer elemento duplicado en una lista dada."
   ]
  },
  {
   "cell_type": "code",
   "execution_count": 66,
   "id": "5614f25b",
   "metadata": {},
   "outputs": [],
   "source": [
    "def encontrar_primer_duplicado(lista):\n",
    "    \"\"\"\n",
    "    Busca y devuelve el primer elemento duplicado encontrado en una lista.\n",
    "\n",
    "    Un elemento se considera duplicado si aparece por segunda vez en la lista.\n",
    "\n",
    "    Args:\n",
    "        lista (list): La lista en la que se buscarán duplicados.\n",
    "\n",
    "    Returns:\n",
    "        any: El primer elemento que se encuentra repetido, o None si no hay duplicados.\n",
    "    \"\"\"\n",
    "    # Usamos un conjunto (set) para mantener un registro de los elementos que ya hemos visto.\n",
    "    # Los conjuntos son muy eficientes para verificar la existencia de un elemento.\n",
    "    elementos_vistos = set()\n",
    "\n",
    "    for elemento in lista:\n",
    "        # Si el elemento ya está en nuestro conjunto 'elementos_vistos',\n",
    "        # significa que es la segunda (o subsiguiente) vez que lo vemos,\n",
    "        # por lo que es el primer duplicado que estamos buscando.\n",
    "        if elemento in elementos_vistos:\n",
    "            return elemento\n",
    "        # Si el elemento no ha sido visto antes, lo añadimos al conjunto.\n",
    "        elementos_vistos.add(elemento)\n",
    "\n",
    "    # Si el bucle termina sin haber encontrado ningún duplicado,\n",
    "    # significa que todos los elementos eran únicos.\n",
    "    return None\n",
    "\n"
   ]
  },
  {
   "cell_type": "code",
   "execution_count": 67,
   "id": "40e7a525",
   "metadata": {},
   "outputs": [
    {
     "name": "stdout",
     "output_type": "stream",
     "text": [
      "--- Ejemplo 1: Duplicado al principio ---\n",
      "Lista: [1, 2, 3, 2, 4, 5] -> Primer duplicado: 2\n",
      "\n",
      "--- Ejemplo 2: Duplicado más tarde ---\n",
      "Lista: ['a', 'b', 'c', 'd', 'c', 'e'] -> Primer duplicado: c\n",
      "\n",
      "--- Ejemplo 3: Múltiples duplicados (devuelve el primero que encuentra) ---\n",
      "Lista: [10, 20, 30, 20, 40, 10, 50] -> Primer duplicado: 20\n",
      "\n",
      "--- Ejemplo 4: Sin duplicados ---\n",
      "Lista: [1, 2, 3, 4, 5] -> Primer duplicado: None\n",
      "\n",
      "--- Ejemplo 5: Lista vacía ---\n",
      "Lista: [] -> Primer duplicado: None\n",
      "\n",
      "--- Ejemplo 6: Duplicados seguidos ---\n",
      "Lista: [7, 7, 8, 9] -> Primer duplicado: 7\n"
     ]
    }
   ],
   "source": [
    "# --- Ejemplos de uso ---\n",
    "print(\"--- Ejemplo 1: Duplicado al principio ---\")\n",
    "lista1 = [1, 2, 3, 2, 4, 5]\n",
    "primer_duplicado1 = encontrar_primer_duplicado(lista1)\n",
    "print(f\"Lista: {lista1} -> Primer duplicado: {primer_duplicado1}\")\n",
    "\n",
    "\n",
    "print(\"\\n--- Ejemplo 2: Duplicado más tarde ---\")\n",
    "lista2 = ['a', 'b', 'c', 'd', 'c', 'e']\n",
    "primer_duplicado2 = encontrar_primer_duplicado(lista2)\n",
    "print(f\"Lista: {lista2} -> Primer duplicado: {primer_duplicado2}\")\n",
    "\n",
    "\n",
    "print(\"\\n--- Ejemplo 3: Múltiples duplicados (devuelve el primero que encuentra) ---\")\n",
    "lista3 = [10, 20, 30, 20, 40, 10, 50]\n",
    "primer_duplicado3 = encontrar_primer_duplicado(lista3)\n",
    "print(f\"Lista: {lista3} -> Primer duplicado: {primer_duplicado3}\")\n",
    "\n",
    "\n",
    "print(\"\\n--- Ejemplo 4: Sin duplicados ---\")\n",
    "lista4 = [1, 2, 3, 4, 5]\n",
    "primer_duplicado4 = encontrar_primer_duplicado(lista4)\n",
    "print(f\"Lista: {lista4} -> Primer duplicado: {primer_duplicado4}\")\n",
    "\n",
    "\n",
    "print(\"\\n--- Ejemplo 5: Lista vacía ---\")\n",
    "lista5 = []\n",
    "primer_duplicado5 = encontrar_primer_duplicado(lista5)\n",
    "print(f\"Lista: {lista5} -> Primer duplicado: {primer_duplicado5}\")\n",
    "\n",
    "\n",
    "print(\"\\n--- Ejemplo 6: Duplicados seguidos ---\")\n",
    "lista6 = [7, 7, 8, 9]\n",
    "primer_duplicado6 = encontrar_primer_duplicado(lista6)\n",
    "print(f\"Lista: {lista6} -> Primer duplicado: {primer_duplicado6}\")\n"
   ]
  },
  {
   "cell_type": "markdown",
   "id": "8b7210d2",
   "metadata": {},
   "source": [
    "29. Crea una función que convierta una variable en una cadena de texto y enmascare todos los caracteres  con el \n",
    "carácter '#', excepto los últimos cuatro."
   ]
  },
  {
   "cell_type": "code",
   "execution_count": 1,
   "id": "193b9f89",
   "metadata": {},
   "outputs": [],
   "source": [
    "def enmascarar_variable(variable):\n",
    "    \"\"\"\n",
    "    Convierte una variable a cadena de texto y enmascara todos los caracteres\n",
    "    con '#', excepto los últimos cuatro.\n",
    "\n",
    "    Args:\n",
    "        variable: La variable a enmascarar (puede ser de cualquier tipo).\n",
    "\n",
    "    Returns:\n",
    "        Una cadena de texto con la variable enmascarada.\n",
    "    \"\"\"\n",
    "    cadena = str(variable)  # Convierte la variable a cadena\n",
    "    longitud = len(cadena)\n",
    "\n",
    "    if longitud <= 4:\n",
    "        return cadena  # Si es 4 caracteres o menos, no enmascara nada\n",
    "    else:\n",
    "        # Crea la parte enmascarada y concatena los últimos 4 caracteres\n",
    "        return '#' * (longitud - 4) + cadena[-4:]\n",
    "\n"
   ]
  },
  {
   "cell_type": "code",
   "execution_count": 2,
   "id": "d6a9221e",
   "metadata": {},
   "outputs": [
    {
     "name": "stdout",
     "output_type": "stream",
     "text": [
      "#############reta\n"
     ]
    }
   ],
   "source": [
    "# Ejemplos de uso:\n",
    "print(enmascarar_variable(\"Mi cadena secreta\"))"
   ]
  },
  {
   "cell_type": "markdown",
   "id": "35762e84",
   "metadata": {},
   "source": [
    "30. Crea una función que determine si dos palabras son anagramas, es decir, si están formadas por las mismas letras \n",
    "pero en diferente orden."
   ]
  },
  {
   "cell_type": "code",
   "execution_count": 3,
   "id": "e0f76d0e",
   "metadata": {},
   "outputs": [],
   "source": [
    "def son_anagramas(palabra1, palabra2):\n",
    "    \"\"\"\n",
    "    Determina si dos palabras son anagramas.\n",
    "\n",
    "    Args:\n",
    "        palabra1 (str): La primera palabra a comparar.\n",
    "        palabra2 (str): La segunda palabra a comparar.\n",
    "\n",
    "    Returns:\n",
    "        bool: True si las palabras son anagramas, False en caso contrario.\n",
    "    \"\"\"\n",
    "    # Normalizar las palabras: convertirlas a minúsculas y quitar espacios\n",
    "    p1_normalizada = sorted(palabra1.lower().replace(\" \", \"\"))\n",
    "    p2_normalizada = sorted(palabra2.lower().replace(\" \", \"\"))\n",
    "\n",
    "    # Comparar las listas de caracteres ordenados\n",
    "    return p1_normalizada == p2_normalizada\n",
    "\n"
   ]
  },
  {
   "cell_type": "code",
   "execution_count": 4,
   "id": "765a7e57",
   "metadata": {},
   "outputs": [
    {
     "name": "stdout",
     "output_type": "stream",
     "text": [
      "'roma' y 'amor' son anagramas? True\n",
      "'Listen' y 'Silent' son anagramas? True\n",
      "'Hola' y 'Mundo' son anagramas? False\n"
     ]
    }
   ],
   "source": [
    "# Ejemplos de uso:\n",
    "print(f\"'roma' y 'amor' son anagramas? {son_anagramas('roma', 'amor')}\")\n",
    "print(f\"'Listen' y 'Silent' son anagramas? {son_anagramas('Listen', 'Silent')}\")\n",
    "print(f\"'Hola' y 'Mundo' son anagramas? {son_anagramas('Hola', 'Mundo')}\")\n"
   ]
  },
  {
   "cell_type": "markdown",
   "id": "2ab8506b",
   "metadata": {},
   "source": [
    "31. Crea una función que solicite al usuario ingresar una lista de nombres y luego solicite un nombre para buscar en \n",
    "esa lista. Si el nombre está en la lista, se imprime un mensaje indicando que fue encontrado, de lo contrario, se \n",
    "lanza una excepción."
   ]
  },
  {
   "cell_type": "code",
   "execution_count": 6,
   "id": "228673c8",
   "metadata": {},
   "outputs": [],
   "source": [
    "def buscar_nombre_en_lista():\n",
    "    \"\"\"\n",
    "    Solicita al usuario una lista de nombres, luego un nombre a buscar.\n",
    "    Imprime si el nombre se encuentra o lanza una excepción si no.\n",
    "    \"\"\"\n",
    "    nombres_str = input(\"Por favor, introduce una lista de nombres separados por comas: \")\n",
    "    nombres_lista = [nombre.strip() for nombre in nombres_str.split(',')]\n",
    "\n",
    "    nombre_a_buscar = input(\"Ahora, introduce el nombre que deseas buscar: \")\n",
    "\n",
    "    if nombre_a_buscar in nombres_lista:\n",
    "        print(f\"¡El nombre '{nombre_a_buscar}' fue encontrado en la lista!\")\n",
    "    else:\n",
    "        raise ValueError(f\"El nombre '{nombre_a_buscar}' no se encuentra en la lista.\")\n",
    "\n"
   ]
  },
  {
   "cell_type": "code",
   "execution_count": 8,
   "id": "81b6d798",
   "metadata": {},
   "outputs": [
    {
     "name": "stdout",
     "output_type": "stream",
     "text": [
      "¡El nombre 'luis' fue encontrado en la lista!\n"
     ]
    }
   ],
   "source": [
    "# Ejemplo de uso:\n",
    "try:\n",
    "    buscar_nombre_en_lista()\n",
    "except ValueError as e:\n",
    "    print(f\"Error: {e}\")"
   ]
  },
  {
   "cell_type": "markdown",
   "id": "2c0e8d8e",
   "metadata": {},
   "source": [
    "32. Crea una función que tome un nombre completo y una lista de empleados, busque el nombre completo en la lista y \n",
    "devuelve el puesto del empleado si está en la lista, de lo contrario, devuelve un mensaje indicando que la persona \n",
    "no trabaja aquí"
   ]
  },
  {
   "cell_type": "code",
   "execution_count": 9,
   "id": "890c3e47",
   "metadata": {},
   "outputs": [],
   "source": [
    "def obtener_puesto_empleado(nombre_completo, lista_empleados):\n",
    "    \"\"\"\n",
    "    Busca un nombre completo en una lista de empleados y devuelve su puesto.\n",
    "\n",
    "    Args:\n",
    "        nombre_completo (str): El nombre completo de la persona a buscar.\n",
    "        lista_empleados (list): Una lista de diccionarios, donde cada diccionario\n",
    "                                representa un empleado con 'nombre' y 'puesto'.\n",
    "\n",
    "    Returns:\n",
    "        str: El puesto del empleado si se encuentra, o un mensaje indicando\n",
    "             que la persona no trabaja aquí.\n",
    "    \"\"\"\n",
    "    # Normalizamos el nombre completo a buscar para que la comparación sea insensible a mayúsculas/minúsculas\n",
    "    nombre_busqueda_normalizado = nombre_completo.lower().strip()\n",
    "\n",
    "    for empleado in lista_empleados:\n",
    "        # Aseguramos que el nombre del empleado también esté normalizado para la comparación\n",
    "        nombre_empleado_normalizado = empleado['nombre'].lower().strip()\n",
    "        if nombre_empleado_normalizado == nombre_busqueda_normalizado:\n",
    "            return f\"El puesto de {empleado['nombre']} es: {empleado['puesto']}\"\n",
    "\n",
    "    return f\"Lo siento, {nombre_completo} no trabaja aquí.\"\n",
    "\n"
   ]
  },
  {
   "cell_type": "code",
   "execution_count": 10,
   "id": "230ca719",
   "metadata": {},
   "outputs": [],
   "source": [
    "# --- Ejemplos de uso ---\n",
    "\n",
    "# Nuestra lista de empleados (cada empleado es un diccionario)\n",
    "empleados = [\n",
    "    {'nombre': 'Ana García', 'puesto': 'Desarrolladora Senior'},\n",
    "    {'nombre': 'Juan Pérez', 'puesto': 'Gerente de Proyectos'},\n",
    "    {'nombre': 'Maria Lopez', 'puesto': 'Diseñadora UX'},\n",
    "    {'nombre': 'Pedro Sánchez', 'puesto': 'Analista de Datos'}\n",
    "]\n",
    "\n"
   ]
  },
  {
   "cell_type": "code",
   "execution_count": 11,
   "id": "5d81c00c",
   "metadata": {},
   "outputs": [
    {
     "name": "stdout",
     "output_type": "stream",
     "text": [
      "El puesto de Juan Pérez es: Gerente de Proyectos\n",
      "Lo siento, María Lopez no trabaja aquí.\n",
      "El puesto de Ana García es: Desarrolladora Senior\n",
      "Lo siento, Carlos Ruiz no trabaja aquí.\n",
      "El puesto de Pedro Sánchez es: Analista de Datos\n"
     ]
    }
   ],
   "source": [
    "# Casos de prueba\n",
    "print(obtener_puesto_empleado(\"Juan Pérez\", empleados))\n",
    "print(obtener_puesto_empleado(\"María Lopez\", empleados)) # Prueba con diferente capitalización\n",
    "print(obtener_puesto_empleado(\"Ana García \", empleados)) # Prueba con espacios extra\n",
    "print(obtener_puesto_empleado(\"Carlos Ruiz\", empleados))\n",
    "print(obtener_puesto_empleado(\"pedro sánchez\", empleados)) # Prueba con minúsculas"
   ]
  },
  {
   "cell_type": "markdown",
   "id": "f7568c7d",
   "metadata": {},
   "source": [
    "33. Crea una función lambda que sume elementos correspondientes de dos listas dadas"
   ]
  },
  {
   "cell_type": "code",
   "execution_count": 18,
   "id": "a34411df",
   "metadata": {},
   "outputs": [],
   "source": [
    "sumar_listas = lambda lista1, lista2: [x + y for x, y in zip(lista1, lista2)]\n",
    "\n",
    "    "
   ]
  },
  {
   "cell_type": "code",
   "execution_count": 19,
   "id": "dc913901",
   "metadata": {},
   "outputs": [
    {
     "name": "stdout",
     "output_type": "stream",
     "text": [
      "Listas a sumar: [1, 2, 3, 4] y [5, 6, 7, 8]\n",
      "Resultado de la suma: [6, 8, 10, 12]\n",
      "------------------------------\n",
      "Listas a sumar: [10, 20, 30] y [1, 2, 3]\n",
      "Resultado de la suma: [11, 22, 33]\n",
      "------------------------------\n",
      "Listas a sumar: [1, 2, 3, 4, 5] y [10, 20, 30]\n",
      "Resultado (manejo de longitudes diferentes): [11, 22, 33]\n"
     ]
    }
   ],
   "source": [
    "# --- Ejemplos de uso ---\n",
    "lista_a = [1, 2, 3, 4]\n",
    "lista_b = [5, 6, 7, 8]\n",
    "resultado = sumar_listas(lista_a, lista_b)\n",
    "print(f\"Listas a sumar: {lista_a} y {lista_b}\")\n",
    "print(f\"Resultado de la suma: {resultado}\")\n",
    "\n",
    "print(\"-\" * 30) # Separador\n",
    "\n",
    "lista_c = [10, 20, 30]\n",
    "lista_d = [1, 2, 3]\n",
    "resultado2 = sumar_listas(lista_c, lista_d)\n",
    "print(f\"Listas a sumar: {lista_c} y {lista_d}\")\n",
    "print(f\"Resultado de la suma: {resultado2}\")\n",
    "\n",
    "print(\"-\" * 30) # Separador\n",
    "\n",
    "# ¿Qué pasa si las listas tienen diferentes longitudes?\n",
    "lista_e = [1, 2, 3, 4, 5]\n",
    "lista_f = [10, 20, 30]\n",
    "resultado3 = sumar_listas(lista_e, lista_f)\n",
    "print(f\"Listas a sumar: {lista_e} y {lista_f}\")\n",
    "print(f\"Resultado (manejo de longitudes diferentes): {resultado3}\")"
   ]
  },
  {
   "cell_type": "markdown",
   "id": "02010b2a",
   "metadata": {},
   "source": [
    "34. \n",
    "Crea la clase Arbol , define un árbol genérico con un tronco y ramas como atributos. Los métodos disponibles son: \n",
    "crecer_tronco , nueva_rama , crecer_ramas , quitar_rama e info_arbol . El objetivo es implementar estos métodos para manipular la estructura del árbol.\n",
    " Código a seguir:\n",
    " 1. Inicializar un árbol con un tronco de longitud 1 y una lista vacía de ramas.\n",
    " 2. Implementar el método crecer_tronco para aumentar la longitud del tronco en una unidad.\n",
    " 3. Implementar el método nueva_rama para agregar una nueva rama de longitud 1 a la lista de ramas.\n",
    " 4. Implementar el método crecer_ramas para aumentar en una unidad la longitud de todas las ramas existentes.\n",
    " 5. Implementar el método quitar_rama para eliminar una rama en una posición específica.\n",
    " 6. Implementar el método info_arbol para devolver información sobre la longitud del tronco, el número de ramas y las longitudes de las mismas.\n",
    " Caso de uso:\n",
    " 1. Crear un árbol.\n",
    " 2. Hacer crecer el tronco del árbol una unidad.\n",
    " 3. Añadir una nueva rama al árbol.\n",
    " 4. Hacer crecer todas las ramas del árbol una unidad.\n",
    " 5. Añadir dos nuevas ramas al árbol.\n",
    " 6. Retirar la rama situada en la posición 2.\n",
    " 7. Obtener información sobre el árbol."
   ]
  },
  {
   "cell_type": "code",
   "execution_count": 20,
   "id": "867544cd",
   "metadata": {},
   "outputs": [],
   "source": [
    "class Arbol:\n",
    "    def __init__(self):\n",
    "        \"\"\"\n",
    "        Inicializa un árbol con un tronco de longitud 1 y una lista vacía de ramas.\n",
    "        \"\"\"\n",
    "        self.longitud_tronco = 1\n",
    "        self.ramas = []  # Lista para almacenar las longitudes de las ramas\n",
    "\n",
    "    def crecer_tronco(self):\n",
    "        \"\"\"\n",
    "        Aumenta la longitud del tronco en una unidad.\n",
    "        \"\"\"\n",
    "        self.longitud_tronco += 1\n",
    "        print(f\"El tronco ha crecido. Nueva longitud: {self.longitud_tronco} unidad(es).\")\n",
    "\n",
    "    def nueva_rama(self):\n",
    "        \"\"\"\n",
    "        Agrega una nueva rama de longitud 1 a la lista de ramas.\n",
    "        \"\"\"\n",
    "        self.ramas.append(1)\n",
    "        print(\"¡Nueva rama añadida con longitud 1!\")\n",
    "\n",
    "    def crecer_ramas(self):\n",
    "        \"\"\"\n",
    "        Aumenta en una unidad la longitud de todas las ramas existentes.\n",
    "        \"\"\"\n",
    "        if not self.ramas:\n",
    "            print(\"No hay ramas para crecer aún.\")\n",
    "            return\n",
    "\n",
    "        for i in range(len(self.ramas)):\n",
    "            self.ramas[i] += 1\n",
    "        print(\"Todas las ramas han crecido una unidad.\")\n",
    "\n",
    "    def quitar_rama(self, posicion):\n",
    "        \"\"\"\n",
    "        Elimina una rama en una posición específica.\n",
    "\n",
    "        Args:\n",
    "            posicion (int): El índice (base 0) de la rama a eliminar.\n",
    "        \"\"\"\n",
    "        if not self.ramas:\n",
    "            print(\"No hay ramas para quitar.\")\n",
    "            return\n",
    "        if not (0 <= posicion < len(self.ramas)):\n",
    "            print(f\"Error: La posición {posicion} está fuera del rango de ramas existentes.\")\n",
    "            return\n",
    "\n",
    "        longitud_rama_eliminada = self.ramas.pop(posicion)\n",
    "        print(f\"Rama de longitud {longitud_rama_eliminada} en la posición {posicion} eliminada.\")\n",
    "\n",
    "    def info_arbol(self):\n",
    "        \"\"\"\n",
    "        Devuelve información sobre la longitud del tronco, el número de ramas y las longitudes de las mismas.\n",
    "\n",
    "        Returns:\n",
    "            str: Una cadena formateada con la información del árbol.\n",
    "        \"\"\"\n",
    "        info = (\n",
    "            f\"--- Información del Árbol ---\\n\"\n",
    "            f\"Longitud del tronco: {self.longitud_tronco} unidad(es)\\n\"\n",
    "            f\"Número de ramas: {len(self.ramas)}\\n\"\n",
    "            f\"Longitudes de las ramas: {self.ramas if self.ramas else 'Ninguna rama existente.'}\"\n",
    "        )\n",
    "        return info\n",
    "\n"
   ]
  },
  {
   "cell_type": "code",
   "execution_count": 21,
   "id": "0b717f30",
   "metadata": {},
   "outputs": [
    {
     "name": "stdout",
     "output_type": "stream",
     "text": [
      "--- Creando y manipulando el árbol ---\n",
      "--- Información del Árbol ---\n",
      "Longitud del tronco: 1 unidad(es)\n",
      "Número de ramas: 0\n",
      "Longitudes de las ramas: Ninguna rama existente.\n",
      "------------------------------\n",
      "El tronco ha crecido. Nueva longitud: 2 unidad(es).\n",
      "--- Información del Árbol ---\n",
      "Longitud del tronco: 2 unidad(es)\n",
      "Número de ramas: 0\n",
      "Longitudes de las ramas: Ninguna rama existente.\n",
      "------------------------------\n",
      "¡Nueva rama añadida con longitud 1!\n",
      "--- Información del Árbol ---\n",
      "Longitud del tronco: 2 unidad(es)\n",
      "Número de ramas: 1\n",
      "Longitudes de las ramas: [1]\n",
      "------------------------------\n",
      "Todas las ramas han crecido una unidad.\n",
      "--- Información del Árbol ---\n",
      "Longitud del tronco: 2 unidad(es)\n",
      "Número de ramas: 1\n",
      "Longitudes de las ramas: [2]\n",
      "------------------------------\n",
      "¡Nueva rama añadida con longitud 1!\n",
      "¡Nueva rama añadida con longitud 1!\n",
      "--- Información del Árbol ---\n",
      "Longitud del tronco: 2 unidad(es)\n",
      "Número de ramas: 3\n",
      "Longitudes de las ramas: [2, 1, 1]\n",
      "------------------------------\n",
      "Rama de longitud 1 en la posición 2 eliminada.\n",
      "--- Información del Árbol ---\n",
      "Longitud del tronco: 2 unidad(es)\n",
      "Número de ramas: 2\n",
      "Longitudes de las ramas: [2, 1]\n",
      "------------------------------\n",
      "--- Información del Árbol ---\n",
      "Longitud del tronco: 2 unidad(es)\n",
      "Número de ramas: 2\n",
      "Longitudes de las ramas: [2, 1]\n",
      "------------------------------\n",
      "Error: La posición 10 está fuera del rango de ramas existentes.\n",
      "--- Información del Árbol ---\n",
      "Longitud del tronco: 2 unidad(es)\n",
      "Número de ramas: 2\n",
      "Longitudes de las ramas: [2, 1]\n"
     ]
    }
   ],
   "source": [
    "# --- Caso de Uso ---\n",
    "print(\"--- Creando y manipulando el árbol ---\")\n",
    "\n",
    "# 1. Crear un árbol.\n",
    "mi_arbol = Arbol()\n",
    "print(mi_arbol.info_arbol())\n",
    "print(\"-\" * 30)\n",
    "\n",
    "# 2. Hacer crecer el tronco del árbol una unidad.\n",
    "mi_arbol.crecer_tronco()\n",
    "print(mi_arbol.info_arbol())\n",
    "print(\"-\" * 30)\n",
    "\n",
    "# 3. Añadir una nueva rama al árbol.\n",
    "mi_arbol.nueva_rama()\n",
    "print(mi_arbol.info_arbol())\n",
    "print(\"-\" * 30)\n",
    "\n",
    "# 4. Hacer crecer todas las ramas del árbol una unidad.\n",
    "mi_arbol.crecer_ramas()\n",
    "print(mi_arbol.info_arbol())\n",
    "print(\"-\" * 30)\n",
    "\n",
    "# 5. Añadir dos nuevas ramas al árbol.\n",
    "mi_arbol.nueva_rama()\n",
    "mi_arbol.nueva_rama()\n",
    "print(mi_arbol.info_arbol())\n",
    "print(\"-\" * 30)\n",
    "\n",
    "# 6. Retirar la rama situada en la posición 2.\n",
    "mi_arbol.quitar_rama(2) # Las ramas están en posiciones 0, 1, 2. Si quitamos la 2 (tercera), se va la última que añadimos.\n",
    "print(mi_arbol.info_arbol())\n",
    "print(\"-\" * 30)\n",
    "\n",
    "# 7. Obtener información sobre el árbol.\n",
    "print(mi_arbol.info_arbol())\n",
    "print(\"-\" * 30)\n",
    "\n",
    "# Prueba de eliminar una rama que no existe\n",
    "mi_arbol.quitar_rama(10)\n",
    "print(mi_arbol.info_arbol())"
   ]
  },
  {
   "cell_type": "markdown",
   "id": "ff5b9a19",
   "metadata": {},
   "source": [
    "36. Crea la clase UsuarioBanco, representa a un usuario de un banco con su nombre, saldo y si tiene o no cuenta \n",
    "corriente. Proporciona métodos para realizar operaciones como retirar dinero, transferir dinero desde otro usuario y \n",
    "agregar dinero al saldo.\n",
    "\n",
    " Código a seguir:\n",
    "\n",
    " 1.Inicializar un usuario con su nombre, saldo y si tiene o no cuenta corriente mediante True y False.\n",
    " 2.Implementar el método retirar_dinero para retirar dinero del saldo del usuario. Lanzará un error en caso de no \n",
    "poder hacerse.\n",
    " 3.Implementar el método transferir_dinero para realizar una transferencia desde otro usuario al usuario actual. Lanzará un error en caso de no poder hacerse.\n",
    " 4.Implementar el método agregar_dinero para agregar dinero al saldo del usuario.\n",
    "\n",
    " Caso de uso:\n",
    " 1.Crear dos usuarios: \"Alicia\" con saldo inicial de 100 y \"Bob\" con saldo inicial de 50, ambos con cuenta corriente.\n",
    " 2.Agregar 20 unidades de saldo de \"Bob\".\n",
    " 3.Hacer una transferencia de 80 unidades desde \"Bob\" a \"Alicia\".\n",
    " 4.Retirar 50 unidades de saldo a \"Alicia\""
   ]
  },
  {
   "cell_type": "code",
   "execution_count": 33,
   "id": "ce3212e3",
   "metadata": {},
   "outputs": [],
   "source": [
    "class UsuarioBanco:\n",
    "    def __init__(self, nombre, saldo_inicial, tiene_cuenta_corriente=False):\n",
    "        \"\"\"\n",
    "        Inicializa un usuario de banco.\n",
    "\n",
    "        Args:\n",
    "            nombre (str): El nombre del usuario.\n",
    "            saldo_inicial (float): El saldo inicial del usuario.\n",
    "            tiene_cuenta_corriente (bool): True si tiene cuenta corriente, False de lo contrario.\n",
    "        \"\"\"\n",
    "        self.nombre = nombre\n",
    "        if saldo_inicial < 0:\n",
    "            raise ValueError(\"El saldo inicial no puede ser negativo.\")\n",
    "        self.saldo = saldo_inicial\n",
    "        self.tiene_cuenta_corriente = tiene_cuenta_corriente\n",
    "        print(f\"Usuario {self.nombre} creado con saldo: {self.saldo:.2f}€ y cuenta corriente: {self.tiene_cuenta_corriente}\")\n",
    "\n",
    "    def retirar_dinero(self, cantidad):\n",
    "        \"\"\"\n",
    "        Retira dinero del saldo del usuario.\n",
    "\n",
    "        Args:\n",
    "            cantidad (float): La cantidad de dinero a retirar.\n",
    "\n",
    "        Raises:\n",
    "            ValueError: Si la cantidad es negativa, cero o excede el saldo disponible.\n",
    "        \"\"\"\n",
    "        if cantidad <= 0:\n",
    "            raise ValueError(\"La cantidad a retirar debe ser positiva.\")\n",
    "        if cantidad > self.saldo:\n",
    "            raise ValueError(f\"Saldo insuficiente. No se pueden retirar {cantidad:.2f}€. Saldo actual: {self.saldo:.2f}€\")\n",
    "\n",
    "        self.saldo -= cantidad\n",
    "        print(f\"{self.nombre} ha retirado {cantidad:.2f}€. Nuevo saldo: {self.saldo:.2f}€\")\n",
    "\n",
    "    def transferir_dinero(self, otro_usuario, cantidad):\n",
    "        \"\"\"\n",
    "        Realiza una transferencia de dinero desde otro usuario al usuario actual.\n",
    "\n",
    "        Args:\n",
    "            otro_usuario (UsuarioBanco): El objeto UsuarioBanco desde el cual se transferirá el dinero.\n",
    "            cantidad (float): La cantidad de dinero a transferir.\n",
    "\n",
    "        Raises:\n",
    "            ValueError: Si la cantidad es negativa, cero, o el otro usuario no tiene fondos suficientes.\n",
    "            TypeError: Si 'otro_usuario' no es una instancia de UsuarioBanco.\n",
    "        \"\"\"\n",
    "        if not isinstance(otro_usuario, UsuarioBanco):\n",
    "            raise TypeError(\"El destinatario de la transferencia debe ser una instancia de UsuarioBanco.\")\n",
    "        if cantidad <= 0:\n",
    "            raise ValueError(\"La cantidad a transferir debe ser positiva.\")\n",
    "        if otro_usuario.saldo < cantidad:\n",
    "            raise ValueError(f\"{otro_usuario.nombre} no tiene saldo suficiente para transferir {cantidad:.2f}€. Saldo actual: {otro_usuario.saldo:.2f}€\")\n",
    "\n",
    "        otro_usuario.saldo -= cantidad\n",
    "        self.saldo += cantidad\n",
    "        print(f\"Transferencia exitosa: {cantidad:.2f}€ de {otro_usuario.nombre} a {self.nombre}.\")\n",
    "        print(f\"Saldo de {otro_usuario.nombre}: {otro_usuario.saldo:.2f}€\")\n",
    "        print(f\"Saldo de {self.nombre}: {self.saldo:.2f}€\")\n",
    "\n",
    "    def agregar_dinero(self, cantidad):\n",
    "        \"\"\"\n",
    "        Agrega dinero al saldo del usuario.\n",
    "\n",
    "        Args:\n",
    "            cantidad (float): La cantidad de dinero a agregar.\n",
    "\n",
    "        Raises:\n",
    "            ValueError: Si la cantidad es negativa o cero.\n",
    "        \"\"\"\n",
    "        if cantidad <= 0:\n",
    "            raise ValueError(\"La cantidad a agregar debe ser positiva.\")\n",
    "\n",
    "        self.saldo += cantidad\n",
    "        print(f\"{self.nombre} ha agregado {cantidad:.2f}€. Nuevo saldo: {self.saldo:.2f}€\")\n",
    "\n",
    "    def __str__(self):\n",
    "        \"\"\"\n",
    "        Representación de cadena del objeto para facilitar la impresión.\n",
    "        \"\"\"\n",
    "        return f\"Usuario: {self.nombre}, Saldo: {self.saldo:.2f}€, Cuenta Corriente: {self.tiene_cuenta_corriente}\"\n",
    "\n"
   ]
  },
  {
   "cell_type": "code",
   "execution_count": 34,
   "id": "6e8feb8b",
   "metadata": {},
   "outputs": [
    {
     "name": "stdout",
     "output_type": "stream",
     "text": [
      "--- Simulando Operaciones Bancarias ---\n",
      "Usuario Alicia creado con saldo: 100.00€ y cuenta corriente: True\n",
      "Usuario Bob creado con saldo: 50.00€ y cuenta corriente: True\n",
      "------------------------------\n",
      "Bob ha agregado 20.00€. Nuevo saldo: 70.00€\n",
      "------------------------------\n",
      "Error en la operación: Bob no tiene saldo suficiente para transferir 80.00€. Saldo actual: 70.00€\n"
     ]
    }
   ],
   "source": [
    "# --- Caso de Uso ---\n",
    "print(\"--- Simulando Operaciones Bancarias ---\")\n",
    "\n",
    "try:\n",
    "    # 1. Crear dos usuarios: \"Alicia\" con saldo inicial de 100 y \"Bob\" con saldo inicial de 50,\n",
    "    #    ambos con cuenta corriente.\n",
    "    alicia = UsuarioBanco(\"Alicia\", 100, tiene_cuenta_corriente=True)\n",
    "    bob = UsuarioBanco(\"Bob\", 50, tiene_cuenta_corriente=True)\n",
    "    print(\"-\" * 30)\n",
    "\n",
    "    # 2. Agregar 20 unidades de saldo a \"Bob\".\n",
    "    bob.agregar_dinero(20)\n",
    "    print(\"-\" * 30)\n",
    "\n",
    "    # 3. Hacer una transferencia de 80 unidades desde \"Bob\" a \"Alicia\".\n",
    "    # Importante: transferir_dinero se llama desde el DESTINATARIO (Alicia)\n",
    "    # y recibe al ORIGEN (Bob) como argumento.\n",
    "    alicia.transferir_dinero(bob, 80)\n",
    "    print(\"-\" * 30)\n",
    "\n",
    "    # 4. Retirar 50 unidades de saldo a \"Alicia\".\n",
    "    alicia.retirar_dinero(50)\n",
    "    print(\"-\" * 30)\n",
    "\n",
    "    print(\"\\n--- Estados finales de los usuarios ---\")\n",
    "    print(alicia)\n",
    "    print(bob)\n",
    "    print(\"-\" * 30)\n",
    "\n",
    "\n",
    "except ValueError as e:\n",
    "    print(f\"Error en la operación: {e}\")\n",
    "except TypeError as e:\n",
    "    print(f\"Error de tipo: {e}\")"
   ]
  },
  {
   "cell_type": "markdown",
   "id": "4de40d5e",
   "metadata": {},
   "source": [
    "37. Crea una función llamada procesar_texto que procesa un texto según la opción especificada: contar_palabras,reemplazar_palabras, eliminar_palabra . Estas opciones son otras funciones que tenemos que definir primero y llamar dentro de la función procesador_texto.\n",
    "\n",
    "Código a seguir:\n",
    " 1.Crear una función contar_palabras para contar el número de veces que aparece cada palabra en el texto. Tiene que devolver un diccionario.\n",
    " 2.Crear una función reemplazar_palabras para remplazar una palabra_original del texto por una palabra_nueva. Tiene que devolver un diccionario.\n",
    " 3.Crear una función eliminar_palabra para eliminar una palabra del texto. Tiene que devolver el texto con la palabra \n",
    "eliminada.\n",
    " 4.Crear la función procesar_texto que tome un texto, una opción(entre \"contar\", \"reemplazar\", \"eliminar\") y un \n",
    "número de argumentos variable según la opción indicada.\n",
    " Caso de uso:\n",
    " Comprueba el funcionamiento completo de la función procesar_texto"
   ]
  },
  {
   "cell_type": "code",
   "execution_count": 36,
   "id": "e12c818f",
   "metadata": {},
   "outputs": [],
   "source": [
    "import re\n",
    "from collections import Counter\n",
    "\n",
    "def contar_palabras(texto):\n",
    "    \"\"\"\n",
    "    Cuenta el número de veces que aparece cada palabra en el texto.\n",
    "    Normaliza el texto a minúsculas y elimina signos de puntuación.\n",
    "    \n",
    "    Args:\n",
    "        texto (str): El texto a procesar.\n",
    "\n",
    "    Returns:\n",
    "        dict: Un diccionario donde las claves son las palabras y los valores son sus conteos.\n",
    "    \"\"\"\n",
    "    # Convertir a minúsculas y usar una expresión regular para encontrar solo palabras\n",
    "    palabras = re.findall(r'\\b\\w+\\b', texto.lower())\n",
    "    return dict(Counter(palabras))\n",
    "\n",
    "def reemplazar_palabras(texto, palabra_original, palabra_nueva):\n",
    "    \"\"\"\n",
    "    Reemplaza todas las ocurrencias de una palabra_original en el texto por una palabra_nueva.\n",
    "    \n",
    "    Args:\n",
    "        texto (str): El texto donde se realizarán los reemplazos.\n",
    "        palabra_original (str): La palabra a buscar y reemplazar.\n",
    "        palabra_nueva (str): La palabra por la que se reemplazará.\n",
    "\n",
    "    Returns:\n",
    "        str: El texto con las palabras reemplazadas.\n",
    "    \"\"\"\n",
    "    # Usar re.sub para un reemplazo más robusto, ignorando mayúsculas/minúsculas y respetando límites de palabra\n",
    "    return re.sub(r'\\b' + re.escape(palabra_original) + r'\\b', palabra_nueva, texto, flags=re.IGNORECASE)\n",
    "\n",
    "def eliminar_palabra(texto, palabra_a_eliminar):\n",
    "    \"\"\"\n",
    "    Elimina todas las ocurrencias de una palabra del texto.\n",
    "    \n",
    "    Args:\n",
    "        texto (str): El texto del que se eliminará la palabra.\n",
    "        palabra_a_eliminar (str): La palabra a eliminar.\n",
    "\n",
    "    Returns:\n",
    "        str: El texto con la palabra eliminada.\n",
    "    \"\"\"\n",
    "    # Usar re.sub para eliminar la palabra, ignorando mayúsculas/minúsculas y respetando límites de palabra\n",
    "    return re.sub(r'\\b' + re.escape(palabra_a_eliminar) + r'\\b', '', texto, flags=re.IGNORECASE).strip()\n",
    "\n",
    "def procesar_texto(texto, opcion, *args):\n",
    "    \"\"\"\n",
    "    Procesa un texto según la opción especificada.\n",
    "\n",
    "    Args:\n",
    "        texto (str): El texto a procesar.\n",
    "        opcion (str): La operación a realizar (\"contar\", \"reemplazar\", \"eliminar\").\n",
    "        *args: Argumentos variables que dependen de la opción:\n",
    "               - \"contar\": No requiere argumentos adicionales.\n",
    "               - \"reemplazar\": Requiere (palabra_original, palabra_nueva).\n",
    "               - \"eliminar\": Requiere (palabra_a_eliminar,).\n",
    "\n",
    "    Returns:\n",
    "        dict/str: El resultado de la operación (diccionario para contar, texto para reemplazar/eliminar).\n",
    "\n",
    "    Raises:\n",
    "        ValueError: Si la opción no es válida o faltan argumentos.\n",
    "    \"\"\"\n",
    "    if opcion == \"contar\":\n",
    "        if args:\n",
    "            print(\"Advertencia: La opción 'contar' no usa argumentos adicionales, se ignorarán.\")\n",
    "        return contar_palabras(texto)\n",
    "    elif opcion == \"reemplazar\":\n",
    "        if len(args) != 2:\n",
    "            raise ValueError(\"La opción 'reemplazar' requiere dos argumentos: palabra_original y palabra_nueva.\")\n",
    "        palabra_original, palabra_nueva = args\n",
    "        return reemplazar_palabras(texto, palabra_original, palabra_nueva)\n",
    "    elif opcion == \"eliminar\":\n",
    "        if len(args) != 1:\n",
    "            raise ValueError(\"La opción 'eliminar' requiere un argumento: palabra_a_eliminar.\")\n",
    "        palabra_a_eliminar = args[0]\n",
    "        return eliminar_palabra(texto, palabra_a_eliminar)\n",
    "    else:\n",
    "        raise ValueError(f\"Opción no válida: '{opcion}'. Las opciones permitidas son 'contar', 'reemplazar', 'eliminar'.\")\n",
    "\n"
   ]
  },
  {
   "cell_type": "code",
   "execution_count": 37,
   "id": "eb8812f9",
   "metadata": {},
   "outputs": [
    {
     "name": "stdout",
     "output_type": "stream",
     "text": [
      "--- Demostración de procesar_texto ---\n",
      "Texto original:\n",
      "'Hola mundo. Este es un ejemplo de texto. Hola otra vez, mundo.'\n",
      "\n",
      "--- Opción: Contar Palabras ---\n",
      "Conteo de palabras: {'hola': 2, 'mundo': 2, 'este': 1, 'es': 1, 'un': 1, 'ejemplo': 1, 'de': 1, 'texto': 1, 'otra': 1, 'vez': 1}\n",
      "----------------------------------------\n",
      "--- Opción: Reemplazar Palabras ---\n",
      "Texto con 'mundo' reemplazado por 'universo':\n",
      "'Hola universo. Este es un ejemplo de texto. Hola otra vez, universo.'\n",
      "----------------------------------------\n",
      "--- Opción: Eliminar Palabra ---\n",
      "Texto con 'Hola' eliminado:\n",
      "'mundo. Este es un ejemplo de texto.  otra vez, mundo.'\n",
      "----------------------------------------\n",
      "--- Probando manejo de errores ---\n",
      "Error esperado: La opción 'reemplazar' requiere dos argumentos: palabra_original y palabra_nueva.\n",
      "Error esperado: Opción no válida: 'operacion_desconocida'. Las opciones permitidas son 'contar', 'reemplazar', 'eliminar'.\n",
      "Error esperado: La opción 'eliminar' requiere un argumento: palabra_a_eliminar.\n"
     ]
    }
   ],
   "source": [
    "# --- Caso de Uso ---\n",
    "print(\"--- Demostración de procesar_texto ---\")\n",
    "\n",
    "mi_texto = \"Hola mundo. Este es un ejemplo de texto. Hola otra vez, mundo.\"\n",
    "\n",
    "print(f\"Texto original:\\n'{mi_texto}'\\n\")\n",
    "\n",
    "# 1. Contar palabras\n",
    "print(\"--- Opción: Contar Palabras ---\")\n",
    "conteo = procesar_texto(mi_texto, \"contar\")\n",
    "print(f\"Conteo de palabras: {conteo}\")\n",
    "print(\"-\" * 40)\n",
    "\n",
    "# 2. Reemplazar palabras\n",
    "print(\"--- Opción: Reemplazar Palabras ---\")\n",
    "texto_reemplazado = procesar_texto(mi_texto, \"reemplazar\", \"mundo\", \"universo\")\n",
    "print(f\"Texto con 'mundo' reemplazado por 'universo':\\n'{texto_reemplazado}'\")\n",
    "print(\"-\" * 40)\n",
    "\n",
    "# 3. Eliminar palabra\n",
    "print(\"--- Opción: Eliminar Palabra ---\")\n",
    "texto_eliminado = procesar_texto(mi_texto, \"eliminar\", \"Hola\")\n",
    "print(f\"Texto con 'Hola' eliminado:\\n'{texto_eliminado}'\")\n",
    "print(\"-\" * 40)\n",
    "\n",
    "# 4. Probar con argumentos incorrectos (esto lanzará un error)\n",
    "print(\"--- Probando manejo de errores ---\")\n",
    "try:\n",
    "    procesar_texto(mi_texto, \"reemplazar\", \"solo_una_palabra\")\n",
    "except ValueError as e:\n",
    "    print(f\"Error esperado: {e}\")\n",
    "\n",
    "try:\n",
    "    procesar_texto(mi_texto, \"operacion_desconocida\")\n",
    "except ValueError as e:\n",
    "    print(f\"Error esperado: {e}\")\n",
    "\n",
    "try:\n",
    "    procesar_texto(mi_texto, \"eliminar\")\n",
    "except ValueError as e:\n",
    "    print(f\"Error esperado: {e}\")"
   ]
  },
  {
   "cell_type": "markdown",
   "id": "8834055a",
   "metadata": {},
   "source": [
    "38. Genera un programa que nos diga si es de noche, de día o tarde según la hora proporcionada por el usuario."
   ]
  },
  {
   "cell_type": "code",
   "execution_count": 38,
   "id": "b1f13da9",
   "metadata": {},
   "outputs": [],
   "source": [
    "def determinar_momento_del_dia(hora):\n",
    "    \"\"\"\n",
    "    Determina si una hora dada corresponde a la mañana/día, tarde o noche.\n",
    "\n",
    "    Args:\n",
    "        hora (int): La hora del día en formato de 24 horas (0-23).\n",
    "\n",
    "    Returns:\n",
    "        str: 'Día', 'Tarde' o 'Noche'.\n",
    "    \"\"\"\n",
    "    if not (0 <= hora <= 23):\n",
    "        raise ValueError(\"La hora debe ser un número entero entre 0 y 23.\")\n",
    "\n",
    "    if 6 <= hora < 13:  # De 6 AM a antes de la 1 PM\n",
    "        return \"Día\"\n",
    "    elif 13 <= hora < 20: # De 1 PM a antes de las 8 PM\n",
    "        return \"Tarde\"\n",
    "    else: # De 8 PM a antes de las 6 AM\n",
    "        return \"Noche\"\n",
    "\n"
   ]
  },
  {
   "cell_type": "code",
   "execution_count": 39,
   "id": "8dd517df",
   "metadata": {},
   "outputs": [
    {
     "name": "stdout",
     "output_type": "stream",
     "text": [
      "Son las 14:00. Es de **Tarde**.\n"
     ]
    }
   ],
   "source": [
    "# --- Interacción con el usuario ---\n",
    "if __name__ == \"__main__\":\n",
    "    while True:\n",
    "        try:\n",
    "            hora_str = input(\"Introduce la hora del día (0-23): \")\n",
    "            hora_ingresada = int(hora_str)\n",
    "\n",
    "            momento = determinar_momento_del_dia(hora_ingresada)\n",
    "            print(f\"Son las {hora_ingresada}:00. Es de **{momento}**.\")\n",
    "            break # Sale del bucle si la entrada es válida\n",
    "\n",
    "        except ValueError as e:\n",
    "            print(f\"Error: {e}. Por favor, introduce un número válido entre 0 y 23.\")\n",
    "        except Exception as e:\n",
    "            print(f\"Ha ocurrido un error inesperado: {e}\")"
   ]
  },
  {
   "cell_type": "markdown",
   "id": "dd3bf6d7",
   "metadata": {},
   "source": [
    "39. Escribe un programa que determine qué calificación en texto tiene un alumno en base a su calificación numérica. \n",
    "Las reglas de calificación son:\n",
    " 1.0 a 69 insuficiente\n",
    " 2.70 a 79 bien\n",
    " 3.80 a 89 muy bien\n",
    " 4.90 a 100 excelente"
   ]
  },
  {
   "cell_type": "code",
   "execution_count": 40,
   "id": "074ede95",
   "metadata": {},
   "outputs": [],
   "source": [
    "def obtener_calificacion_texto(calificacion_numerica):\n",
    "    \"\"\"\n",
    "    Determina la calificación en texto de un alumno en base a su calificación numérica.\n",
    "\n",
    "    Args:\n",
    "        calificacion_numerica (float or int): La calificación numérica del alumno.\n",
    "\n",
    "    Returns:\n",
    "        str: La calificación en texto ('Insuficiente', 'Bien', 'Muy Bien', 'Excelente').\n",
    "\n",
    "    Raises:\n",
    "        ValueError: Si la calificación está fuera del rango de 0 a 100.\n",
    "    \"\"\"\n",
    "    if not (0 <= calificacion_numerica <= 100):\n",
    "        raise ValueError(\"La calificación debe estar entre 0 y 100.\")\n",
    "\n",
    "    if calificacion_numerica < 70:\n",
    "        return \"Insuficiente\"\n",
    "    elif 70 <= calificacion_numerica < 80:\n",
    "        return \"Bien\"\n",
    "    elif 80 <= calificacion_numerica < 90:\n",
    "        return \"Muy Bien\"\n",
    "    else:  # calificacion_numerica >= 90\n",
    "        return \"Excelente\"\n",
    "\n"
   ]
  },
  {
   "cell_type": "code",
   "execution_count": 42,
   "id": "38603778",
   "metadata": {},
   "outputs": [
    {
     "name": "stdout",
     "output_type": "stream",
     "text": [
      "Error: La calificación debe estar entre 0 y 100.. Por favor, asegúrate de introducir un número entre 0 y 100.\n",
      "La calificación de 98.0 es: **Excelente**\n"
     ]
    }
   ],
   "source": [
    "# --- Interacción con el usuario ---\n",
    "if __name__ == \"__main__\":\n",
    "    while True:\n",
    "        try:\n",
    "            entrada_calificacion = input(\"Introduce la calificación numérica del alumno (0-100): \")\n",
    "            calificacion = float(entrada_calificacion) # Usamos float para permitir decimales\n",
    "\n",
    "            calificacion_texto = obtener_calificacion_texto(calificacion)\n",
    "            print(f\"La calificación de {calificacion} es: **{calificacion_texto}**\")\n",
    "            break # Salimos del bucle si la entrada es válida y procesada\n",
    "\n",
    "        except ValueError as e:\n",
    "            print(f\"Error: {e}. Por favor, asegúrate de introducir un número entre 0 y 100.\")\n",
    "        except Exception as e:\n",
    "            print(f\"Ha ocurrido un error inesperado: {e}\")"
   ]
  },
  {
   "cell_type": "markdown",
   "id": "47d7f218",
   "metadata": {},
   "source": [
    "40. Escribe una función que tome dos parámetros: figura (una cadena que puede ser \"triangulo\"m, \"circulo\" o  \"rectangulo\") y datos (una tupla con los datos necesarios para calcular el área de la figura)."
   ]
  },
  {
   "cell_type": "code",
   "execution_count": 43,
   "id": "e7962348",
   "metadata": {},
   "outputs": [],
   "source": [
    "import math\n",
    "\n",
    "def calcular_area(figura, datos):\n",
    "    \"\"\"\n",
    "    Calcula el área de una figura geométrica especificada.\n",
    "\n",
    "    Args:\n",
    "        figura (str): El tipo de figura ('triangulo', 'circulo', 'rectangulo').\n",
    "                      La función es insensible a mayúsculas/minúsculas.\n",
    "        datos (tuple): Una tupla con los datos necesarios para el cálculo:\n",
    "                       - 'triangulo': (base, altura)\n",
    "                       - 'circulo': (radio,)\n",
    "                       - 'rectangulo': (base, altura)\n",
    "\n",
    "    Returns:\n",
    "        float: El área calculada de la figura.\n",
    "\n",
    "    Raises:\n",
    "        ValueError: Si la figura no es reconocida, los datos son insuficientes/incorrectos,\n",
    "                    o los valores de los datos son negativos.\n",
    "    \"\"\"\n",
    "    figura = figura.lower() # Normalizamos la entrada a minúsculas\n",
    "\n",
    "    if figura == \"triangulo\":\n",
    "        if len(datos) != 2:\n",
    "            raise ValueError(\"Para un triángulo, la tupla 'datos' debe contener (base, altura).\")\n",
    "        base, altura = datos\n",
    "        if base <= 0 or altura <= 0:\n",
    "            raise ValueError(\"La base y la altura de un triángulo deben ser valores positivos.\")\n",
    "        return 0.5 * base * altura\n",
    "    \n",
    "    elif figura == \"circulo\":\n",
    "        if len(datos) != 1:\n",
    "            raise ValueError(\"Para un círculo, la tupla 'datos' debe contener (radio,).\")\n",
    "        radio = datos[0]\n",
    "        if radio <= 0:\n",
    "            raise ValueError(\"El radio de un círculo debe ser un valor positivo.\")\n",
    "        return math.pi * (radio ** 2)\n",
    "    \n",
    "    elif figura == \"rectangulo\":\n",
    "        if len(datos) != 2:\n",
    "            raise ValueError(\"Para un rectángulo, la tupla 'datos' debe contener (base, altura).\")\n",
    "        base, altura = datos\n",
    "        if base <= 0 or altura <= 0:\n",
    "            raise ValueError(\"La base y la altura de un rectángulo deben ser valores positivos.\")\n",
    "        return base * altura\n",
    "    \n",
    "    else:\n",
    "        raise ValueError(f\"Figura no reconocida: '{figura}'. Las opciones son 'triangulo', 'circulo' o 'rectangulo'.\")\n",
    "\n"
   ]
  },
  {
   "cell_type": "code",
   "execution_count": 44,
   "id": "37463ade",
   "metadata": {},
   "outputs": [
    {
     "name": "stdout",
     "output_type": "stream",
     "text": [
      "--- Calculando áreas ---\n",
      "Área del triángulo con base 10 y altura 5: 25.0\n",
      "Área del círculo con radio 7: 153.94\n",
      "Área del rectángulo con base 8 y altura 4: 32\n",
      "\n",
      "--- Ejemplos de errores ---\n",
      "Error esperado (triángulo, datos insuficientes): Para un triángulo, la tupla 'datos' debe contener (base, altura).\n",
      "Error esperado (figura no reconocida): Figura no reconocida: 'cuadrado'. Las opciones son 'triangulo', 'circulo' o 'rectangulo'.\n",
      "Error esperado (círculo, radio negativo): El radio de un círculo debe ser un valor positivo.\n",
      "Error esperado (rectángulo, datos incorrectos): Para un rectángulo, la tupla 'datos' debe contener (base, altura).\n"
     ]
    }
   ],
   "source": [
    "# --- Ejemplos de uso ---\n",
    "print(\"--- Calculando áreas ---\")\n",
    "\n",
    "# Triángulo\n",
    "try:\n",
    "    area_triangulo = calcular_area(\"triangulo\", (10, 5))\n",
    "    print(f\"Área del triángulo con base 10 y altura 5: {area_triangulo}\")\n",
    "except ValueError as e:\n",
    "    print(f\"Error al calcular el área del triángulo: {e}\")\n",
    "\n",
    "# Círculo\n",
    "try:\n",
    "    area_circulo = calcular_area(\"circulo\", (7,)) # Nota la coma para que sea una tupla de un solo elemento\n",
    "    print(f\"Área del círculo con radio 7: {area_circulo:.2f}\") # Formatear a 2 decimales\n",
    "except ValueError as e:\n",
    "    print(f\"Error al calcular el área del círculo: {e}\")\n",
    "\n",
    "# Rectángulo\n",
    "try:\n",
    "    area_rectangulo = calcular_area(\"rectangulo\", (8, 4))\n",
    "    print(f\"Área del rectángulo con base 8 y altura 4: {area_rectangulo}\")\n",
    "except ValueError as e:\n",
    "    print(f\"Error al calcular el área del rectángulo: {e}\")\n",
    "\n",
    "print(\"\\n--- Ejemplos de errores ---\")\n",
    "\n",
    "# Datos insuficientes para un triángulo\n",
    "try:\n",
    "    calcular_area(\"triangulo\", (10,))\n",
    "except ValueError as e:\n",
    "    print(f\"Error esperado (triángulo, datos insuficientes): {e}\")\n",
    "\n",
    "# Figura no reconocida\n",
    "try:\n",
    "    calcular_area(\"cuadrado\", (5,))\n",
    "except ValueError as e:\n",
    "    print(f\"Error esperado (figura no reconocida): {e}\")\n",
    "\n",
    "# Datos negativos\n",
    "try:\n",
    "    calcular_area(\"circulo\", (-5,))\n",
    "except ValueError as e:\n",
    "    print(f\"Error esperado (círculo, radio negativo): {e}\")\n",
    "\n",
    "# Datos incorrectos para un rectángulo\n",
    "try:\n",
    "    calcular_area(\"rectangulo\", (8, 4, 2))\n",
    "except ValueError as e:\n",
    "    print(f\"Error esperado (rectángulo, datos incorrectos): {e}\")"
   ]
  },
  {
   "cell_type": "markdown",
   "id": "5b02964e",
   "metadata": {},
   "source": [
    "41.En este ejercicio, se te pedirá que escribas un programa en Python que utilice condicionales para determinar el \n",
    "monto final de una compra en una tienda en línea, después de aplicar un descuento. El programa debe hacer lo \n",
    "siguiente:\n",
    " 1. Solicita al usuario que ingrese el precio original de un artículo.\n",
    " 2. Pregunta al usuario si tiene un cupón de descuento (respuesta sí o no).\n",
    " 3. Si el usuario responde que sí, solicita que ingrese el valor del cupón de descuento.\n",
    " 4. Aplica el descuento al precio original del artículo, siempre y cuando el valor del cupón sea válido (es decir, mayor \n",
    "a cero). Por ejemplo, descuento de 15€. \n",
    "5. Muestra el precio final de la compra, teniendo en cuenta el descuento aplicado o sin él. \n",
    "6. Recuerda utilizar estructuras de control de flujo como if, elif y else para llevar a cabo estas acciones en tu \n",
    "programa de Python"
   ]
  },
  {
   "cell_type": "code",
   "execution_count": 45,
   "id": "f9b46a84",
   "metadata": {},
   "outputs": [],
   "source": [
    "def calcular_precio_final():\n",
    "    \"\"\"\n",
    "    Calcula el precio final de una compra en línea aplicando un descuento opcional.\n",
    "    \"\"\"\n",
    "    try:\n",
    "        # 1. Solicitar el precio original del artículo\n",
    "        precio_original_str = input(\"Ingresa el precio original del artículo: \")\n",
    "        precio_original = float(precio_original_str)\n",
    "\n",
    "        if precio_original <= 0:\n",
    "            print(\"El precio original debe ser un valor positivo. Por favor, inténtalo de nuevo.\")\n",
    "            return # Termina la función si el precio no es válido\n",
    "\n",
    "        descuento = 0.0 # Inicializamos el descuento en cero\n",
    "\n",
    "        # 2. Preguntar si tiene un cupón de descuento\n",
    "        tiene_cupon = input(\"¿Tienes un cupón de descuento? (sí/no): \").lower()\n",
    "\n",
    "        if tiene_cupon == \"si\" or tiene_cupon == \"sí\":\n",
    "            # 3. Si tiene cupón, solicitar el valor del cupón\n",
    "            valor_cupon_str = input(\"Ingresa el valor del cupón de descuento: \")\n",
    "            valor_cupon = float(valor_cupon_str)\n",
    "\n",
    "            # 4. Aplicar el descuento si el valor del cupón es válido\n",
    "            if valor_cupon > 0:\n",
    "                descuento = valor_cupon\n",
    "                print(f\"Cupón de descuento de {descuento:.2f}€ aplicado.\")\n",
    "            else:\n",
    "                print(\"El valor del cupón debe ser mayor a cero. No se aplicará descuento.\")\n",
    "        elif tiene_cupon == \"no\":\n",
    "            print(\"No se aplicará ningún cupón de descuento.\")\n",
    "        else:\n",
    "            print(\"Respuesta no válida para el cupón. No se aplicará descuento.\")\n",
    "\n",
    "        # Calcular el precio final\n",
    "        precio_final = precio_original - descuento\n",
    "\n",
    "        # Asegurarse de que el precio final no sea negativo\n",
    "        if precio_final < 0:\n",
    "            precio_final = 0.0\n",
    "            print(\"¡El descuento excede el precio original! El precio final es 0.00€.\")\n",
    "\n",
    "        # 5. Mostrar el precio final\n",
    "        print(f\"\\nPrecio original: {precio_original:.2f}€\")\n",
    "        print(f\"Descuento aplicado: {descuento:.2f}€\")\n",
    "        print(f\"Precio final de la compra: {precio_final:.2f}€\")\n",
    "\n",
    "    except ValueError:\n",
    "        print(\"Entrada inválida. Asegúrate de ingresar números para el precio y el cupón.\")\n",
    "    except Exception as e:\n",
    "        print(f\"Ha ocurrido un error inesperado: {e}\")\n",
    "\n"
   ]
  },
  {
   "cell_type": "code",
   "execution_count": 46,
   "id": "3848d255",
   "metadata": {},
   "outputs": [
    {
     "name": "stdout",
     "output_type": "stream",
     "text": [
      "Cupón de descuento de 15.00€ aplicado.\n",
      "\n",
      "Precio original: 150.00€\n",
      "Descuento aplicado: 15.00€\n",
      "Precio final de la compra: 135.00€\n"
     ]
    }
   ],
   "source": [
    "# Ejecutar el programa\n",
    "if __name__ == \"__main__\":\n",
    "    calcular_precio_final()"
   ]
  }
 ],
 "metadata": {
  "kernelspec": {
   "display_name": "Python 3",
   "language": "python",
   "name": "python3"
  },
  "language_info": {
   "codemirror_mode": {
    "name": "ipython",
    "version": 3
   },
   "file_extension": ".py",
   "mimetype": "text/x-python",
   "name": "python",
   "nbconvert_exporter": "python",
   "pygments_lexer": "ipython3",
   "version": "3.13.5"
  }
 },
 "nbformat": 4,
 "nbformat_minor": 5
}
